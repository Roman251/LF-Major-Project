{
 "cells": [
  {
   "cell_type": "code",
   "execution_count": 1,
   "source": [
    "import pandas as pd"
   ],
   "outputs": [],
   "metadata": {}
  },
  {
   "cell_type": "code",
   "execution_count": 2,
   "source": [
    "df = pd.read_csv('../../../data/cancer.csv')\n",
    "df.head()"
   ],
   "outputs": [
    {
     "output_type": "execute_result",
     "data": {
      "text/html": [
       "<div>\n",
       "<style scoped>\n",
       "    .dataframe tbody tr th:only-of-type {\n",
       "        vertical-align: middle;\n",
       "    }\n",
       "\n",
       "    .dataframe tbody tr th {\n",
       "        vertical-align: top;\n",
       "    }\n",
       "\n",
       "    .dataframe thead th {\n",
       "        text-align: right;\n",
       "    }\n",
       "</style>\n",
       "<table border=\"1\" class=\"dataframe\">\n",
       "  <thead>\n",
       "    <tr style=\"text-align: right;\">\n",
       "      <th></th>\n",
       "      <th>outcome</th>\n",
       "      <th>radius_mean</th>\n",
       "      <th>texture_mean</th>\n",
       "      <th>perimeter_mean</th>\n",
       "      <th>area_mean</th>\n",
       "      <th>smoothness_mean</th>\n",
       "      <th>compactness_mean</th>\n",
       "      <th>concavity_mean</th>\n",
       "      <th>concave points_mean</th>\n",
       "      <th>symmetry_mean</th>\n",
       "      <th>...</th>\n",
       "      <th>radius_worst</th>\n",
       "      <th>texture_worst</th>\n",
       "      <th>perimeter_worst</th>\n",
       "      <th>area_worst</th>\n",
       "      <th>smoothness_worst</th>\n",
       "      <th>compactness_worst</th>\n",
       "      <th>concavity_worst</th>\n",
       "      <th>concave points_worst</th>\n",
       "      <th>symmetry_worst</th>\n",
       "      <th>fractal_dimension_worst</th>\n",
       "    </tr>\n",
       "  </thead>\n",
       "  <tbody>\n",
       "    <tr>\n",
       "      <th>0</th>\n",
       "      <td>M</td>\n",
       "      <td>17.99</td>\n",
       "      <td>10.38</td>\n",
       "      <td>122.80</td>\n",
       "      <td>1001.0</td>\n",
       "      <td>0.11840</td>\n",
       "      <td>0.27760</td>\n",
       "      <td>0.3001</td>\n",
       "      <td>0.14710</td>\n",
       "      <td>0.2419</td>\n",
       "      <td>...</td>\n",
       "      <td>25.38</td>\n",
       "      <td>17.33</td>\n",
       "      <td>184.60</td>\n",
       "      <td>2019.0</td>\n",
       "      <td>0.1622</td>\n",
       "      <td>0.6656</td>\n",
       "      <td>0.7119</td>\n",
       "      <td>0.2654</td>\n",
       "      <td>0.4601</td>\n",
       "      <td>0.11890</td>\n",
       "    </tr>\n",
       "    <tr>\n",
       "      <th>1</th>\n",
       "      <td>M</td>\n",
       "      <td>20.57</td>\n",
       "      <td>17.77</td>\n",
       "      <td>132.90</td>\n",
       "      <td>1326.0</td>\n",
       "      <td>0.08474</td>\n",
       "      <td>0.07864</td>\n",
       "      <td>0.0869</td>\n",
       "      <td>0.07017</td>\n",
       "      <td>0.1812</td>\n",
       "      <td>...</td>\n",
       "      <td>24.99</td>\n",
       "      <td>23.41</td>\n",
       "      <td>158.80</td>\n",
       "      <td>1956.0</td>\n",
       "      <td>0.1238</td>\n",
       "      <td>0.1866</td>\n",
       "      <td>0.2416</td>\n",
       "      <td>0.1860</td>\n",
       "      <td>0.2750</td>\n",
       "      <td>0.08902</td>\n",
       "    </tr>\n",
       "    <tr>\n",
       "      <th>2</th>\n",
       "      <td>M</td>\n",
       "      <td>19.69</td>\n",
       "      <td>21.25</td>\n",
       "      <td>130.00</td>\n",
       "      <td>1203.0</td>\n",
       "      <td>0.10960</td>\n",
       "      <td>0.15990</td>\n",
       "      <td>0.1974</td>\n",
       "      <td>0.12790</td>\n",
       "      <td>0.2069</td>\n",
       "      <td>...</td>\n",
       "      <td>23.57</td>\n",
       "      <td>25.53</td>\n",
       "      <td>152.50</td>\n",
       "      <td>1709.0</td>\n",
       "      <td>0.1444</td>\n",
       "      <td>0.4245</td>\n",
       "      <td>0.4504</td>\n",
       "      <td>0.2430</td>\n",
       "      <td>0.3613</td>\n",
       "      <td>0.08758</td>\n",
       "    </tr>\n",
       "    <tr>\n",
       "      <th>3</th>\n",
       "      <td>M</td>\n",
       "      <td>11.42</td>\n",
       "      <td>20.38</td>\n",
       "      <td>77.58</td>\n",
       "      <td>386.1</td>\n",
       "      <td>0.14250</td>\n",
       "      <td>0.28390</td>\n",
       "      <td>0.2414</td>\n",
       "      <td>0.10520</td>\n",
       "      <td>0.2597</td>\n",
       "      <td>...</td>\n",
       "      <td>14.91</td>\n",
       "      <td>26.50</td>\n",
       "      <td>98.87</td>\n",
       "      <td>567.7</td>\n",
       "      <td>0.2098</td>\n",
       "      <td>0.8663</td>\n",
       "      <td>0.6869</td>\n",
       "      <td>0.2575</td>\n",
       "      <td>0.6638</td>\n",
       "      <td>0.17300</td>\n",
       "    </tr>\n",
       "    <tr>\n",
       "      <th>4</th>\n",
       "      <td>M</td>\n",
       "      <td>20.29</td>\n",
       "      <td>14.34</td>\n",
       "      <td>135.10</td>\n",
       "      <td>1297.0</td>\n",
       "      <td>0.10030</td>\n",
       "      <td>0.13280</td>\n",
       "      <td>0.1980</td>\n",
       "      <td>0.10430</td>\n",
       "      <td>0.1809</td>\n",
       "      <td>...</td>\n",
       "      <td>22.54</td>\n",
       "      <td>16.67</td>\n",
       "      <td>152.20</td>\n",
       "      <td>1575.0</td>\n",
       "      <td>0.1374</td>\n",
       "      <td>0.2050</td>\n",
       "      <td>0.4000</td>\n",
       "      <td>0.1625</td>\n",
       "      <td>0.2364</td>\n",
       "      <td>0.07678</td>\n",
       "    </tr>\n",
       "  </tbody>\n",
       "</table>\n",
       "<p>5 rows × 31 columns</p>\n",
       "</div>"
      ],
      "text/plain": [
       "  outcome  radius_mean  texture_mean  perimeter_mean  area_mean  \\\n",
       "0       M        17.99         10.38          122.80     1001.0   \n",
       "1       M        20.57         17.77          132.90     1326.0   \n",
       "2       M        19.69         21.25          130.00     1203.0   \n",
       "3       M        11.42         20.38           77.58      386.1   \n",
       "4       M        20.29         14.34          135.10     1297.0   \n",
       "\n",
       "   smoothness_mean  compactness_mean  concavity_mean  concave points_mean  \\\n",
       "0          0.11840           0.27760          0.3001              0.14710   \n",
       "1          0.08474           0.07864          0.0869              0.07017   \n",
       "2          0.10960           0.15990          0.1974              0.12790   \n",
       "3          0.14250           0.28390          0.2414              0.10520   \n",
       "4          0.10030           0.13280          0.1980              0.10430   \n",
       "\n",
       "   symmetry_mean  ...  radius_worst  texture_worst  perimeter_worst  \\\n",
       "0         0.2419  ...         25.38          17.33           184.60   \n",
       "1         0.1812  ...         24.99          23.41           158.80   \n",
       "2         0.2069  ...         23.57          25.53           152.50   \n",
       "3         0.2597  ...         14.91          26.50            98.87   \n",
       "4         0.1809  ...         22.54          16.67           152.20   \n",
       "\n",
       "   area_worst  smoothness_worst  compactness_worst  concavity_worst  \\\n",
       "0      2019.0            0.1622             0.6656           0.7119   \n",
       "1      1956.0            0.1238             0.1866           0.2416   \n",
       "2      1709.0            0.1444             0.4245           0.4504   \n",
       "3       567.7            0.2098             0.8663           0.6869   \n",
       "4      1575.0            0.1374             0.2050           0.4000   \n",
       "\n",
       "   concave points_worst  symmetry_worst  fractal_dimension_worst  \n",
       "0                0.2654          0.4601                  0.11890  \n",
       "1                0.1860          0.2750                  0.08902  \n",
       "2                0.2430          0.3613                  0.08758  \n",
       "3                0.2575          0.6638                  0.17300  \n",
       "4                0.1625          0.2364                  0.07678  \n",
       "\n",
       "[5 rows x 31 columns]"
      ]
     },
     "metadata": {},
     "execution_count": 2
    }
   ],
   "metadata": {}
  },
  {
   "cell_type": "code",
   "execution_count": 3,
   "source": [
    "df['outcome'] = df['outcome'].replace(to_replace={'B':0, 'M':1})"
   ],
   "outputs": [],
   "metadata": {}
  },
  {
   "cell_type": "code",
   "execution_count": 4,
   "source": [
    "X = df.drop(columns=['outcome'])\n",
    "y = df['outcome'] "
   ],
   "outputs": [],
   "metadata": {}
  },
  {
   "cell_type": "code",
   "execution_count": 5,
   "source": [
    "from sklearn.model_selection import train_test_split\n",
    "x_train, x_test, y_train, y_test = train_test_split(X, y, test_size = 0.15, random_state = 45)"
   ],
   "outputs": [],
   "metadata": {}
  },
  {
   "cell_type": "code",
   "execution_count": 6,
   "source": [
    "from sklearn.feature_selection import SelectKBest\n",
    "from sklearn.feature_selection import mutual_info_classif"
   ],
   "outputs": [],
   "metadata": {}
  },
  {
   "cell_type": "code",
   "execution_count": 7,
   "source": [
    "mutual_info = mutual_info_classif(x_train, y_train)\n",
    "mutual_info"
   ],
   "outputs": [
    {
     "output_type": "execute_result",
     "data": {
      "text/plain": [
       "array([0.37942582, 0.08259567, 0.40955836, 0.35704453, 0.09250747,\n",
       "       0.23171735, 0.37424329, 0.47295007, 0.07898518, 0.01990975,\n",
       "       0.24834544, 0.        , 0.27130465, 0.35648809, 0.04478073,\n",
       "       0.07098645, 0.14947508, 0.14410192, 0.0128264 , 0.04300596,\n",
       "       0.44520225, 0.10684539, 0.47327832, 0.4629782 , 0.12470321,\n",
       "       0.23780503, 0.3206053 , 0.45039411, 0.11120587, 0.05040804])"
      ]
     },
     "metadata": {},
     "execution_count": 7
    }
   ],
   "metadata": {}
  },
  {
   "cell_type": "code",
   "execution_count": 8,
   "source": [
    "mutual_info = pd.Series(mutual_info)\n",
    "mutual_info.index = x_train.columns\n",
    "mutual_info.sort_values(ascending=False)"
   ],
   "outputs": [
    {
     "output_type": "execute_result",
     "data": {
      "text/plain": [
       "perimeter_worst            0.473278\n",
       "concave points_mean        0.472950\n",
       "area_worst                 0.462978\n",
       "concave points_worst       0.450394\n",
       "radius_worst               0.445202\n",
       "perimeter_mean             0.409558\n",
       "radius_mean                0.379426\n",
       "concavity_mean             0.374243\n",
       "area_mean                  0.357045\n",
       "area_se                    0.356488\n",
       "concavity_worst            0.320605\n",
       "perimeter_se               0.271305\n",
       "radius_se                  0.248345\n",
       "compactness_worst          0.237805\n",
       "compactness_mean           0.231717\n",
       "concavity_se               0.149475\n",
       "concave points_se          0.144102\n",
       "smoothness_worst           0.124703\n",
       "symmetry_worst             0.111206\n",
       "texture_worst              0.106845\n",
       "smoothness_mean            0.092507\n",
       "texture_mean               0.082596\n",
       "symmetry_mean              0.078985\n",
       "compactness_se             0.070986\n",
       "fractal_dimension_worst    0.050408\n",
       "smoothness_se              0.044781\n",
       "fractal_dimension_se       0.043006\n",
       "fractal_dimension_mean     0.019910\n",
       "symmetry_se                0.012826\n",
       "texture_se                 0.000000\n",
       "dtype: float64"
      ]
     },
     "metadata": {},
     "execution_count": 8
    }
   ],
   "metadata": {}
  },
  {
   "cell_type": "code",
   "execution_count": 9,
   "source": [
    "mutual_info.sort_values(ascending=False).plot.bar(figsize=(20, 8))"
   ],
   "outputs": [
    {
     "output_type": "execute_result",
     "data": {
      "text/plain": [
       "<AxesSubplot:>"
      ]
     },
     "metadata": {},
     "execution_count": 9
    },
    {
     "output_type": "display_data",
     "data": {
      "image/png": "[encoded data removed]",
      "text/plain": [
       "<Figure size 1440x576 with 1 Axes>"
      ]
     },
     "metadata": {
      "needs_background": "light"
     }
    }
   ],
   "metadata": {}
  },
  {
   "cell_type": "code",
   "execution_count": 10,
   "source": [
    "# will only select top 15 features\n",
    "sel_cols = SelectKBest(mutual_info_classif, k=15)\n",
    "sel_cols.fit(x_train, y_train)\n",
    "\n",
    "x_train.columns[sel_cols.get_support()], x_test.columns[sel_cols.get_support()]"
   ],
   "outputs": [
    {
     "output_type": "execute_result",
     "data": {
      "text/plain": [
       "(Index(['radius_mean', 'perimeter_mean', 'area_mean', 'compactness_mean',\n",
       "        'concavity_mean', 'concave points_mean', 'radius_se', 'perimeter_se',\n",
       "        'area_se', 'radius_worst', 'perimeter_worst', 'area_worst',\n",
       "        'compactness_worst', 'concavity_worst', 'concave points_worst'],\n",
       "       dtype='object'),\n",
       " Index(['radius_mean', 'perimeter_mean', 'area_mean', 'compactness_mean',\n",
       "        'concavity_mean', 'concave points_mean', 'radius_se', 'perimeter_se',\n",
       "        'area_se', 'radius_worst', 'perimeter_worst', 'area_worst',\n",
       "        'compactness_worst', 'concavity_worst', 'concave points_worst'],\n",
       "       dtype='object'))"
      ]
     },
     "metadata": {},
     "execution_count": 10
    }
   ],
   "metadata": {}
  },
  {
   "cell_type": "code",
   "execution_count": 11,
   "source": [
    "x_train = x_train[x_train.columns.intersection(x_train.columns[sel_cols.get_support()])]\n",
    "x_test  = x_test[x_test.columns.intersection(x_test.columns[sel_cols.get_support()])]"
   ],
   "outputs": [],
   "metadata": {}
  },
  {
   "cell_type": "code",
   "execution_count": 12,
   "source": [
    "from sklearn.ensemble import RandomForestClassifier\n",
    "model = RandomForestClassifier(n_estimators=200, bootstrap = True, max_features = 'sqrt').fit(x_train,y_train)\n",
    "\n",
    "y_pred = model.predict(x_test)\n",
    "print('accuracy of the model is : {:.2f}'.format(model.score(x_test, y_test)))"
   ],
   "outputs": [
    {
     "output_type": "stream",
     "name": "stdout",
     "text": [
      "accuracy of the model is : 0.94\n"
     ]
    }
   ],
   "metadata": {}
  },
  {
   "cell_type": "code",
   "execution_count": 13,
   "source": [
    "from sklearn.metrics import classification_report\n",
    "print(classification_report(y_test, y_pred))"
   ],
   "outputs": [
    {
     "output_type": "stream",
     "name": "stdout",
     "text": [
      "              precision    recall  f1-score   support\n",
      "\n",
      "           0       0.93      0.98      0.96        57\n",
      "           1       0.96      0.86      0.91        29\n",
      "\n",
      "    accuracy                           0.94        86\n",
      "   macro avg       0.95      0.92      0.93        86\n",
      "weighted avg       0.94      0.94      0.94        86\n",
      "\n"
     ]
    }
   ],
   "metadata": {}
  },
  {
   "cell_type": "code",
   "execution_count": 14,
   "source": [
    "y_pred = pd.DataFrame(model.predict(x_test),columns=['pred'], index=x_test.index)"
   ],
   "outputs": [],
   "metadata": {}
  },
  {
   "cell_type": "code",
   "execution_count": 15,
   "source": [
    "from shapash.explainer.smart_explainer import SmartExplainer\n",
    "xpl = SmartExplainer()\n",
    "xpl.compile(\n",
    "    x=x_test,\n",
    "    model=model,\n",
    "    y_pred=y_pred\n",
    "   \n",
    ")"
   ],
   "outputs": [
    {
     "output_type": "stream",
     "name": "stdout",
     "text": [
      "Backend: Shap TreeExplainer\n"
     ]
    }
   ],
   "metadata": {}
  },
  {
   "cell_type": "code",
   "execution_count": 16,
   "source": [
    "\n",
    "xpl.save('../../../serialized_files/shapash/cancer/cancer_xpl.pkl')"
   ],
   "outputs": [],
   "metadata": {}
  },
  {
   "cell_type": "code",
   "execution_count": 17,
   "source": [
    "summary_df = xpl.to_pandas(max_contrib=3)\n",
    "summary_df.head()"
   ],
   "outputs": [
    {
     "output_type": "execute_result",
     "data": {
      "text/html": [
       "<div>\n",
       "<style scoped>\n",
       "    .dataframe tbody tr th:only-of-type {\n",
       "        vertical-align: middle;\n",
       "    }\n",
       "\n",
       "    .dataframe tbody tr th {\n",
       "        vertical-align: top;\n",
       "    }\n",
       "\n",
       "    .dataframe thead th {\n",
       "        text-align: right;\n",
       "    }\n",
       "</style>\n",
       "<table border=\"1\" class=\"dataframe\">\n",
       "  <thead>\n",
       "    <tr style=\"text-align: right;\">\n",
       "      <th></th>\n",
       "      <th>pred</th>\n",
       "      <th>feature_1</th>\n",
       "      <th>value_1</th>\n",
       "      <th>contribution_1</th>\n",
       "      <th>feature_2</th>\n",
       "      <th>value_2</th>\n",
       "      <th>contribution_2</th>\n",
       "      <th>feature_3</th>\n",
       "      <th>value_3</th>\n",
       "      <th>contribution_3</th>\n",
       "    </tr>\n",
       "  </thead>\n",
       "  <tbody>\n",
       "    <tr>\n",
       "      <th>440</th>\n",
       "      <td>0</td>\n",
       "      <td>concave points_mean</td>\n",
       "      <td>0.03613</td>\n",
       "      <td>0.122393</td>\n",
       "      <td>concave points_worst</td>\n",
       "      <td>0.1555</td>\n",
       "      <td>-0.100025</td>\n",
       "      <td>area_worst</td>\n",
       "      <td>476.4</td>\n",
       "      <td>0.085566</td>\n",
       "    </tr>\n",
       "    <tr>\n",
       "      <th>262</th>\n",
       "      <td>1</td>\n",
       "      <td>area_worst</td>\n",
       "      <td>1295.0</td>\n",
       "      <td>0.133488</td>\n",
       "      <td>radius_worst</td>\n",
       "      <td>20.39</td>\n",
       "      <td>0.112556</td>\n",
       "      <td>perimeter_worst</td>\n",
       "      <td>137.9</td>\n",
       "      <td>0.098993</td>\n",
       "    </tr>\n",
       "    <tr>\n",
       "      <th>260</th>\n",
       "      <td>1</td>\n",
       "      <td>area_worst</td>\n",
       "      <td>1844.0</td>\n",
       "      <td>0.114396</td>\n",
       "      <td>concave points_mean</td>\n",
       "      <td>0.09333</td>\n",
       "      <td>0.095405</td>\n",
       "      <td>radius_worst</td>\n",
       "      <td>24.33</td>\n",
       "      <td>0.094269</td>\n",
       "    </tr>\n",
       "    <tr>\n",
       "      <th>145</th>\n",
       "      <td>0</td>\n",
       "      <td>area_worst</td>\n",
       "      <td>509.6</td>\n",
       "      <td>0.066665</td>\n",
       "      <td>concave points_mean</td>\n",
       "      <td>0.03003</td>\n",
       "      <td>0.060648</td>\n",
       "      <td>radius_worst</td>\n",
       "      <td>13.15</td>\n",
       "      <td>0.052548</td>\n",
       "    </tr>\n",
       "    <tr>\n",
       "      <th>504</th>\n",
       "      <td>0</td>\n",
       "      <td>area_worst</td>\n",
       "      <td>300.2</td>\n",
       "      <td>0.095657</td>\n",
       "      <td>radius_worst</td>\n",
       "      <td>10.28</td>\n",
       "      <td>0.077135</td>\n",
       "      <td>perimeter_worst</td>\n",
       "      <td>69.05</td>\n",
       "      <td>0.072063</td>\n",
       "    </tr>\n",
       "  </tbody>\n",
       "</table>\n",
       "</div>"
      ],
      "text/plain": [
       "     pred            feature_1  value_1 contribution_1             feature_2  \\\n",
       "440     0  concave points_mean  0.03613       0.122393  concave points_worst   \n",
       "262     1           area_worst   1295.0       0.133488          radius_worst   \n",
       "260     1           area_worst   1844.0       0.114396   concave points_mean   \n",
       "145     0           area_worst    509.6       0.066665   concave points_mean   \n",
       "504     0           area_worst    300.2       0.095657          radius_worst   \n",
       "\n",
       "     value_2 contribution_2        feature_3 value_3 contribution_3  \n",
       "440   0.1555      -0.100025       area_worst   476.4       0.085566  \n",
       "262    20.39       0.112556  perimeter_worst   137.9       0.098993  \n",
       "260  0.09333       0.095405     radius_worst   24.33       0.094269  \n",
       "145  0.03003       0.060648     radius_worst   13.15       0.052548  \n",
       "504    10.28       0.077135  perimeter_worst   69.05       0.072063  "
      ]
     },
     "metadata": {},
     "execution_count": 17
    }
   ],
   "metadata": {}
  },
  {
   "cell_type": "code",
   "execution_count": 18,
   "source": [
    "xpl.plot.features_importance()"
   ],
   "outputs": [
    {
     "output_type": "display_data",
     "data": {
      "application/vnd.plotly.v1+json": {
       "config": {
        "plotlyServerURL": "https://plot.ly"
       },
       "data": [
        {
         "marker": {
          "color": [
           "rgba(244, 192, 0, 1.0)",
           "rgba(244, 192, 0, 1.0)",
           "rgba(244, 192, 0, 1.0)",
           "rgba(244, 192, 0, 1.0)",
           "rgba(244, 192, 0, 1.0)",
           "rgba(244, 192, 0, 1.0)",
           "rgba(244, 192, 0, 1.0)",
           "rgba(244, 192, 0, 1.0)",
           "rgba(244, 192, 0, 1.0)",
           "rgba(244, 192, 0, 1.0)",
           "rgba(244, 192, 0, 1.0)",
           "rgba(244, 192, 0, 1.0)",
           "rgba(244, 192, 0, 1.0)",
           "rgba(244, 192, 0, 1.0)",
           "rgba(244, 192, 0, 1.0)"
          ],
          "line": {
           "color": "rgba(52, 55, 54, 0.8)",
           "width": 0.5
          }
         },
         "name": "Global",
         "orientation": "h",
         "type": "bar",
         "x": [
          0.0064,
          0.0071,
          0.0087,
          0.0161,
          0.0218,
          0.0374,
          0.0381,
          0.0401,
          0.0566,
          0.0578,
          0.1221,
          0.1269,
          0.1319,
          0.1626,
          0.1665
         ],
         "y": [
          "compactness_mean",
          "radius_se",
          "perimeter_se",
          "compactness_worst",
          "area_mean",
          "perimeter_mean",
          "radius_mean",
          "area_se",
          "concavity_mean",
          "concavity_worst",
          "perimeter_worst",
          "concave points_worst",
          "radius_worst",
          "area_worst",
          "concave points_mean"
         ]
        }
       ],
       "layout": {
        "autosize": false,
        "barmode": "group",
        "height": 500,
        "hovermode": "closest",
        "margin": {
         "b": 50,
         "l": 160,
         "r": 0,
         "t": 95
        },
        "template": {
         "data": {
          "scatter": [
           {
            "type": "scatter"
           }
          ]
         }
        },
        "title": {
         "font": {
          "color": "rgb(50, 50, 50)",
          "family": "Arial",
          "size": 24
         },
         "text": "Features Importance<span style='font-size: 12px;'><br />Response: <b>1</b></span>",
         "x": 0.5,
         "xanchor": "center",
         "y": 0.9,
         "yanchor": "middle"
        },
        "width": 900,
        "xaxis": {
         "automargin": true,
         "title": {
          "font": {
           "color": "rgb(50, 50, 50)",
           "family": "Arial Black",
           "size": 16
          },
          "text": "Contribution"
         }
        },
        "yaxis": {
         "automargin": true,
         "title": {
          "font": {
           "color": "rgb(50, 50, 50)",
           "family": "Arial Black",
           "size": 16
          }
         }
        }
       }
      }
     },
     "metadata": {}
    }
   ],
   "metadata": {}
  },
  {
   "cell_type": "code",
   "execution_count": 19,
   "source": [
    "xpl.filter()\n",
    "xpl.plot.local_plot(index=145)"
   ],
   "outputs": [
    {
     "output_type": "display_data",
     "data": {
      "application/vnd.plotly.v1+json": {
       "config": {
        "plotlyServerURL": "https://plot.ly"
       },
       "data": [
        {
         "customdata": [
          "<b>area_worst :</b><br />509.6"
         ],
         "hovertemplate": "%{customdata}<br />Contribution: %{x:.4f}<extra></extra>",
         "marker": {
          "color": "rgba(74, 99, 138, 0.7)",
          "line": {
           "color": "rgba(27, 28, 28, 1.0)",
           "width": 0.5
          }
         },
         "orientation": "h",
         "showlegend": false,
         "type": "bar",
         "x": [
          -0.06666505409777623
         ],
         "y": [
          "<b>area_worst</b>"
         ]
        },
        {
         "customdata": [
          "<b>concave points_mean :</b><br />0.03003"
         ],
         "hovertemplate": "%{customdata}<br />Contribution: %{x:.4f}<extra></extra>",
         "marker": {
          "color": "rgba(74, 99, 138, 0.7)",
          "line": {
           "color": "rgba(27, 28, 28, 1.0)",
           "width": 0.5
          }
         },
         "orientation": "h",
         "showlegend": false,
         "type": "bar",
         "x": [
          -0.060648011852981715
         ],
         "y": [
          "<b>concave points_mean</b>"
         ]
        },
        {
         "customdata": [
          "<b>radius_worst :</b><br />13.15"
         ],
         "hovertemplate": "%{customdata}<br />Contribution: %{x:.4f}<extra></extra>",
         "marker": {
          "color": "rgba(74, 99, 138, 0.7)",
          "line": {
           "color": "rgba(27, 28, 28, 1.0)",
           "width": 0.5
          }
         },
         "orientation": "h",
         "showlegend": false,
         "type": "bar",
         "x": [
          -0.05254752975552902
         ],
         "y": [
          "<b>radius_worst</b>"
         ]
        },
        {
         "customdata": [
          "<b>concave points_worst :</b><br />0.06042"
         ],
         "hovertemplate": "%{customdata}<br />Contribution: %{x:.4f}<extra></extra>",
         "marker": {
          "color": "rgba(74, 99, 138, 0.7)",
          "line": {
           "color": "rgba(27, 28, 28, 1.0)",
           "width": 0.5
          }
         },
         "orientation": "h",
         "showlegend": false,
         "type": "bar",
         "x": [
          -0.05076993396522544
         ],
         "y": [
          "<b>concave points_worst</b>"
         ]
        },
        {
         "customdata": [
          "<b>perimeter_worst :</b><br />86.26"
         ],
         "hovertemplate": "%{customdata}<br />Contribution: %{x:.4f}<extra></extra>",
         "marker": {
          "color": "rgba(74, 99, 138, 0.7)",
          "line": {
           "color": "rgba(27, 28, 28, 1.0)",
           "width": 0.5
          }
         },
         "orientation": "h",
         "showlegend": false,
         "type": "bar",
         "x": [
          -0.04915107338269517
         ],
         "y": [
          "<b>perimeter_worst</b>"
         ]
        },
        {
         "customdata": [
          "<b>concavity_worst :</b><br />0.0942"
         ],
         "hovertemplate": "%{customdata}<br />Contribution: %{x:.4f}<extra></extra>",
         "marker": {
          "color": "rgba(74, 99, 138, 0.7)",
          "line": {
           "color": "rgba(27, 28, 28, 1.0)",
           "width": 0.5
          }
         },
         "orientation": "h",
         "showlegend": false,
         "type": "bar",
         "x": [
          -0.029775287977364805
         ],
         "y": [
          "<b>concavity_worst</b>"
         ]
        },
        {
         "customdata": [
          "<b>concavity_mean :</b><br />0.0371"
         ],
         "hovertemplate": "%{customdata}<br />Contribution: %{x:.4f}<extra></extra>",
         "marker": {
          "color": "rgba(74, 99, 138, 0.7)",
          "line": {
           "color": "rgba(27, 28, 28, 1.0)",
           "width": 0.5
          }
         },
         "orientation": "h",
         "showlegend": false,
         "type": "bar",
         "x": [
          -0.02132063841462061
         ],
         "y": [
          "<b>concavity_mean</b>"
         ]
        },
        {
         "customdata": [
          "<b>radius_mean :</b><br />11.9"
         ],
         "hovertemplate": "%{customdata}<br />Contribution: %{x:.4f}<extra></extra>",
         "marker": {
          "color": "rgba(74, 99, 138, 0.7)",
          "line": {
           "color": "rgba(27, 28, 28, 1.0)",
           "width": 0.5
          }
         },
         "orientation": "h",
         "showlegend": false,
         "type": "bar",
         "x": [
          -0.01661153105766596
         ],
         "y": [
          "<b>radius_mean</b>"
         ]
        },
        {
         "customdata": [
          "<b>perimeter_mean :</b><br />78.11"
         ],
         "hovertemplate": "%{customdata}<br />Contribution: %{x:.4f}<extra></extra>",
         "marker": {
          "color": "rgba(74, 99, 138, 0.7)",
          "line": {
           "color": "rgba(27, 28, 28, 1.0)",
           "width": 0.5
          }
         },
         "orientation": "h",
         "showlegend": false,
         "type": "bar",
         "x": [
          -0.015240781734329816
         ],
         "y": [
          "<b>perimeter_mean</b>"
         ]
        },
        {
         "customdata": [
          "<b>area_mean :</b><br />432.8"
         ],
         "hovertemplate": "%{customdata}<br />Contribution: %{x:.4f}<extra></extra>",
         "marker": {
          "color": "rgba(74, 99, 138, 0.7)",
          "line": {
           "color": "rgba(27, 28, 28, 1.0)",
           "width": 0.5
          }
         },
         "orientation": "h",
         "showlegend": false,
         "type": "bar",
         "x": [
          -0.006786607803563728
         ],
         "y": [
          "<b>area_mean</b>"
         ]
        },
        {
         "customdata": [
          "<b>area_se :</b><br />25.03"
         ],
         "hovertemplate": "%{customdata}<br />Contribution: %{x:.4f}<extra></extra>",
         "marker": {
          "color": "rgba(74, 99, 138, 0.7)",
          "line": {
           "color": "rgba(27, 28, 28, 1.0)",
           "width": 0.5
          }
         },
         "orientation": "h",
         "showlegend": false,
         "type": "bar",
         "x": [
          -0.006085983664656265
         ],
         "y": [
          "<b>area_se</b>"
         ]
        },
        {
         "customdata": [
          "<b>compactness_worst :</b><br />0.2517"
         ],
         "hovertemplate": "%{customdata}<br />Contribution: %{x:.4f}<extra></extra>",
         "marker": {
          "color": "rgba(74, 99, 138, 0.7)",
          "line": {
           "color": "rgba(27, 28, 28, 1.0)",
           "width": 0.5
          }
         },
         "orientation": "h",
         "showlegend": false,
         "type": "bar",
         "x": [
          -0.0047492494576967074
         ],
         "y": [
          "<b>compactness_worst</b>"
         ]
        },
        {
         "customdata": [
          "<b>compactness_mean :</b><br />0.1296"
         ],
         "hovertemplate": "%{customdata}<br />Contribution: %{x:.4f}<extra></extra>",
         "marker": {
          "color": "rgba(74, 99, 138, 0.7)",
          "line": {
           "color": "rgba(27, 28, 28, 1.0)",
           "width": 0.5
          }
         },
         "orientation": "h",
         "showlegend": false,
         "type": "bar",
         "x": [
          -0.0012741825172836408
         ],
         "y": [
          "<b>compactness_mean</b>"
         ]
        },
        {
         "customdata": [
          "<b>perimeter_se :</b><br />3.021"
         ],
         "hovertemplate": "%{customdata}<br />Contribution: %{x:.4f}<extra></extra>",
         "marker": {
          "color": "rgba(244, 192, 0, 1.0)",
          "line": {
           "color": "rgba(52, 55, 54, 0.8)",
           "width": 0.5
          }
         },
         "orientation": "h",
         "showlegend": false,
         "type": "bar",
         "x": [
          0.0002919224342805944
         ],
         "y": [
          "<b>perimeter_se</b>"
         ]
        },
        {
         "customdata": [
          "<b>radius_se :</b><br />0.3962"
         ],
         "hovertemplate": "%{customdata}<br />Contribution: %{x:.4f}<extra></extra>",
         "marker": {
          "color": "rgba(244, 192, 0, 1.0)",
          "line": {
           "color": "rgba(52, 55, 54, 0.8)",
           "width": 0.5
          }
         },
         "orientation": "h",
         "showlegend": false,
         "type": "bar",
         "x": [
          0.0023587879676054565
         ],
         "y": [
          "<b>radius_se</b>"
         ]
        }
       ],
       "layout": {
        "barmode": "group",
        "height": 550,
        "hovermode": "closest",
        "margin": {
         "b": 70,
         "l": 150,
         "r": 20,
         "t": 95
        },
        "template": {
         "data": {
          "scatter": [
           {
            "type": "scatter"
           }
          ]
         }
        },
        "title": {
         "font": {
          "color": "rgb(50, 50, 50)",
          "family": "Arial",
          "size": 24
         },
         "text": "Local Explanation - Id: <b>145</b><span style='font-size: 12px;'><br />Response: <b>1</b> - Proba: <b>0.0000</b></span>",
         "x": 0.5,
         "xanchor": "center",
         "y": 0.9,
         "yanchor": "middle"
        },
        "width": 900,
        "xaxis": {
         "automargin": true,
         "title": {
          "font": {
           "color": "rgb(50, 50, 50)",
           "family": "Arial Black",
           "size": 16
          },
          "text": "Contribution"
         }
        },
        "yaxis": {
         "automargin": true,
         "title": {
          "font": {
           "color": "rgb(50, 50, 50)",
           "family": "Arial Black",
           "size": 16
          }
         },
         "type": "category"
        }
       }
      }
     },
     "metadata": {}
    }
   ],
   "metadata": {}
  },
  {
   "cell_type": "code",
   "execution_count": 20,
   "source": [
    "predictor = xpl.to_smartpredictor()"
   ],
   "outputs": [],
   "metadata": {}
  },
  {
   "cell_type": "code",
   "execution_count": 21,
   "source": [
    "predictor.save('../../../serialized_files/shapash/cancer/cancer.pkl')\n",
    "from shapash.utils.load_smartpredictor import load_smartpredictor\n",
    "predictor_load = load_smartpredictor('../../../serialized_files/shapash/cancer/cancer.pkl')"
   ],
   "outputs": [],
   "metadata": {}
  },
  {
   "cell_type": "code",
   "execution_count": 22,
   "source": [
    "data = [10.970, 71.73, 371.5, 0.1113, 0.09457, 0.03613, 0.2574, 2.806, 18.15, 12.36, 90.14, 476.4, 0.4082, 0.4779, 0.15550]"
   ],
   "outputs": [],
   "metadata": {}
  },
  {
   "cell_type": "code",
   "execution_count": 23,
   "source": [
    "# change the original dataframe\n",
    "X  = X[X.columns.intersection(X.columns[sel_cols.get_support()])]\n",
    "X.columns"
   ],
   "outputs": [
    {
     "output_type": "execute_result",
     "data": {
      "text/plain": [
       "Index(['radius_mean', 'perimeter_mean', 'area_mean', 'compactness_mean',\n",
       "       'concavity_mean', 'concave points_mean', 'radius_se', 'perimeter_se',\n",
       "       'area_se', 'radius_worst', 'perimeter_worst', 'area_worst',\n",
       "       'compactness_worst', 'concavity_worst', 'concave points_worst'],\n",
       "      dtype='object')"
      ]
     },
     "metadata": {},
     "execution_count": 23
    }
   ],
   "metadata": {}
  },
  {
   "cell_type": "code",
   "execution_count": 24,
   "source": [
    "new_df = pd.DataFrame(columns = X.columns)\n",
    "new_df.loc[len(X)] = data"
   ],
   "outputs": [],
   "metadata": {}
  },
  {
   "cell_type": "code",
   "execution_count": 25,
   "source": [
    "X['outcome'] = y\n",
    "X.head()\n"
   ],
   "outputs": [
    {
     "output_type": "execute_result",
     "data": {
      "text/html": [
       "<div>\n",
       "<style scoped>\n",
       "    .dataframe tbody tr th:only-of-type {\n",
       "        vertical-align: middle;\n",
       "    }\n",
       "\n",
       "    .dataframe tbody tr th {\n",
       "        vertical-align: top;\n",
       "    }\n",
       "\n",
       "    .dataframe thead th {\n",
       "        text-align: right;\n",
       "    }\n",
       "</style>\n",
       "<table border=\"1\" class=\"dataframe\">\n",
       "  <thead>\n",
       "    <tr style=\"text-align: right;\">\n",
       "      <th></th>\n",
       "      <th>radius_mean</th>\n",
       "      <th>perimeter_mean</th>\n",
       "      <th>area_mean</th>\n",
       "      <th>compactness_mean</th>\n",
       "      <th>concavity_mean</th>\n",
       "      <th>concave points_mean</th>\n",
       "      <th>radius_se</th>\n",
       "      <th>perimeter_se</th>\n",
       "      <th>area_se</th>\n",
       "      <th>radius_worst</th>\n",
       "      <th>perimeter_worst</th>\n",
       "      <th>area_worst</th>\n",
       "      <th>compactness_worst</th>\n",
       "      <th>concavity_worst</th>\n",
       "      <th>concave points_worst</th>\n",
       "      <th>outcome</th>\n",
       "    </tr>\n",
       "  </thead>\n",
       "  <tbody>\n",
       "    <tr>\n",
       "      <th>0</th>\n",
       "      <td>17.99</td>\n",
       "      <td>122.80</td>\n",
       "      <td>1001.0</td>\n",
       "      <td>0.27760</td>\n",
       "      <td>0.3001</td>\n",
       "      <td>0.14710</td>\n",
       "      <td>1.0950</td>\n",
       "      <td>8.589</td>\n",
       "      <td>153.40</td>\n",
       "      <td>25.38</td>\n",
       "      <td>184.60</td>\n",
       "      <td>2019.0</td>\n",
       "      <td>0.6656</td>\n",
       "      <td>0.7119</td>\n",
       "      <td>0.2654</td>\n",
       "      <td>1</td>\n",
       "    </tr>\n",
       "    <tr>\n",
       "      <th>1</th>\n",
       "      <td>20.57</td>\n",
       "      <td>132.90</td>\n",
       "      <td>1326.0</td>\n",
       "      <td>0.07864</td>\n",
       "      <td>0.0869</td>\n",
       "      <td>0.07017</td>\n",
       "      <td>0.5435</td>\n",
       "      <td>3.398</td>\n",
       "      <td>74.08</td>\n",
       "      <td>24.99</td>\n",
       "      <td>158.80</td>\n",
       "      <td>1956.0</td>\n",
       "      <td>0.1866</td>\n",
       "      <td>0.2416</td>\n",
       "      <td>0.1860</td>\n",
       "      <td>1</td>\n",
       "    </tr>\n",
       "    <tr>\n",
       "      <th>2</th>\n",
       "      <td>19.69</td>\n",
       "      <td>130.00</td>\n",
       "      <td>1203.0</td>\n",
       "      <td>0.15990</td>\n",
       "      <td>0.1974</td>\n",
       "      <td>0.12790</td>\n",
       "      <td>0.7456</td>\n",
       "      <td>4.585</td>\n",
       "      <td>94.03</td>\n",
       "      <td>23.57</td>\n",
       "      <td>152.50</td>\n",
       "      <td>1709.0</td>\n",
       "      <td>0.4245</td>\n",
       "      <td>0.4504</td>\n",
       "      <td>0.2430</td>\n",
       "      <td>1</td>\n",
       "    </tr>\n",
       "    <tr>\n",
       "      <th>3</th>\n",
       "      <td>11.42</td>\n",
       "      <td>77.58</td>\n",
       "      <td>386.1</td>\n",
       "      <td>0.28390</td>\n",
       "      <td>0.2414</td>\n",
       "      <td>0.10520</td>\n",
       "      <td>0.4956</td>\n",
       "      <td>3.445</td>\n",
       "      <td>27.23</td>\n",
       "      <td>14.91</td>\n",
       "      <td>98.87</td>\n",
       "      <td>567.7</td>\n",
       "      <td>0.8663</td>\n",
       "      <td>0.6869</td>\n",
       "      <td>0.2575</td>\n",
       "      <td>1</td>\n",
       "    </tr>\n",
       "    <tr>\n",
       "      <th>4</th>\n",
       "      <td>20.29</td>\n",
       "      <td>135.10</td>\n",
       "      <td>1297.0</td>\n",
       "      <td>0.13280</td>\n",
       "      <td>0.1980</td>\n",
       "      <td>0.10430</td>\n",
       "      <td>0.7572</td>\n",
       "      <td>5.438</td>\n",
       "      <td>94.44</td>\n",
       "      <td>22.54</td>\n",
       "      <td>152.20</td>\n",
       "      <td>1575.0</td>\n",
       "      <td>0.2050</td>\n",
       "      <td>0.4000</td>\n",
       "      <td>0.1625</td>\n",
       "      <td>1</td>\n",
       "    </tr>\n",
       "  </tbody>\n",
       "</table>\n",
       "</div>"
      ],
      "text/plain": [
       "   radius_mean  perimeter_mean  area_mean  compactness_mean  concavity_mean  \\\n",
       "0        17.99          122.80     1001.0           0.27760          0.3001   \n",
       "1        20.57          132.90     1326.0           0.07864          0.0869   \n",
       "2        19.69          130.00     1203.0           0.15990          0.1974   \n",
       "3        11.42           77.58      386.1           0.28390          0.2414   \n",
       "4        20.29          135.10     1297.0           0.13280          0.1980   \n",
       "\n",
       "   concave points_mean  radius_se  perimeter_se  area_se  radius_worst  \\\n",
       "0              0.14710     1.0950         8.589   153.40         25.38   \n",
       "1              0.07017     0.5435         3.398    74.08         24.99   \n",
       "2              0.12790     0.7456         4.585    94.03         23.57   \n",
       "3              0.10520     0.4956         3.445    27.23         14.91   \n",
       "4              0.10430     0.7572         5.438    94.44         22.54   \n",
       "\n",
       "   perimeter_worst  area_worst  compactness_worst  concavity_worst  \\\n",
       "0           184.60      2019.0             0.6656           0.7119   \n",
       "1           158.80      1956.0             0.1866           0.2416   \n",
       "2           152.50      1709.0             0.4245           0.4504   \n",
       "3            98.87       567.7             0.8663           0.6869   \n",
       "4           152.20      1575.0             0.2050           0.4000   \n",
       "\n",
       "   concave points_worst  outcome  \n",
       "0                0.2654        1  \n",
       "1                0.1860        1  \n",
       "2                0.2430        1  \n",
       "3                0.2575        1  \n",
       "4                0.1625        1  "
      ]
     },
     "metadata": {},
     "execution_count": 25
    }
   ],
   "metadata": {}
  },
  {
   "cell_type": "code",
   "execution_count": 26,
   "source": [
    "# overwrite the original cancer file\n",
    "X.to_csv('../../../data/cancer.csv', index=False)"
   ],
   "outputs": [],
   "metadata": {}
  },
  {
   "cell_type": "code",
   "execution_count": 27,
   "source": [
    "new_df.reset_index(inplace = True, drop = True)"
   ],
   "outputs": [],
   "metadata": {}
  },
  {
   "cell_type": "code",
   "execution_count": 28,
   "source": [
    "predictor.add_input(x=new_df)"
   ],
   "outputs": [],
   "metadata": {}
  },
  {
   "cell_type": "code",
   "execution_count": 29,
   "source": [
    "detailed_contributions = predictor.detail_contributions()\n",
    "detailed_contributions"
   ],
   "outputs": [
    {
     "output_type": "execute_result",
     "data": {
      "text/html": [
       "<div>\n",
       "<style scoped>\n",
       "    .dataframe tbody tr th:only-of-type {\n",
       "        vertical-align: middle;\n",
       "    }\n",
       "\n",
       "    .dataframe tbody tr th {\n",
       "        vertical-align: top;\n",
       "    }\n",
       "\n",
       "    .dataframe thead th {\n",
       "        text-align: right;\n",
       "    }\n",
       "</style>\n",
       "<table border=\"1\" class=\"dataframe\">\n",
       "  <thead>\n",
       "    <tr style=\"text-align: right;\">\n",
       "      <th></th>\n",
       "      <th>ypred</th>\n",
       "      <th>proba</th>\n",
       "      <th>radius_mean</th>\n",
       "      <th>perimeter_mean</th>\n",
       "      <th>area_mean</th>\n",
       "      <th>compactness_mean</th>\n",
       "      <th>concavity_mean</th>\n",
       "      <th>concave points_mean</th>\n",
       "      <th>radius_se</th>\n",
       "      <th>perimeter_se</th>\n",
       "      <th>area_se</th>\n",
       "      <th>radius_worst</th>\n",
       "      <th>perimeter_worst</th>\n",
       "      <th>area_worst</th>\n",
       "      <th>compactness_worst</th>\n",
       "      <th>concavity_worst</th>\n",
       "      <th>concave points_worst</th>\n",
       "    </tr>\n",
       "  </thead>\n",
       "  <tbody>\n",
       "    <tr>\n",
       "      <th>0</th>\n",
       "      <td>0</td>\n",
       "      <td>0.82</td>\n",
       "      <td>0.012503</td>\n",
       "      <td>0.019239</td>\n",
       "      <td>0.000686</td>\n",
       "      <td>0.002276</td>\n",
       "      <td>-0.015576</td>\n",
       "      <td>0.122393</td>\n",
       "      <td>0.003344</td>\n",
       "      <td>0.001216</td>\n",
       "      <td>0.01709</td>\n",
       "      <td>0.063063</td>\n",
       "      <td>0.045427</td>\n",
       "      <td>0.085566</td>\n",
       "      <td>-0.023384</td>\n",
       "      <td>-0.034843</td>\n",
       "      <td>-0.100025</td>\n",
       "    </tr>\n",
       "  </tbody>\n",
       "</table>\n",
       "</div>"
      ],
      "text/plain": [
       "   ypred  proba radius_mean perimeter_mean area_mean compactness_mean  \\\n",
       "0      0   0.82    0.012503       0.019239  0.000686         0.002276   \n",
       "\n",
       "  concavity_mean concave points_mean radius_se perimeter_se  area_se  \\\n",
       "0      -0.015576            0.122393  0.003344     0.001216  0.01709   \n",
       "\n",
       "  radius_worst perimeter_worst area_worst compactness_worst concavity_worst  \\\n",
       "0     0.063063        0.045427   0.085566         -0.023384       -0.034843   \n",
       "\n",
       "  concave points_worst  \n",
       "0            -0.100025  "
      ]
     },
     "metadata": {},
     "execution_count": 29
    }
   ],
   "metadata": {}
  },
  {
   "cell_type": "code",
   "execution_count": 30,
   "source": [
    "predictor.modify_mask(max_contrib=3)\n",
    "explanation = predictor.summarize()\n",
    "explanation"
   ],
   "outputs": [
    {
     "output_type": "execute_result",
     "data": {
      "text/html": [
       "<div>\n",
       "<style scoped>\n",
       "    .dataframe tbody tr th:only-of-type {\n",
       "        vertical-align: middle;\n",
       "    }\n",
       "\n",
       "    .dataframe tbody tr th {\n",
       "        vertical-align: top;\n",
       "    }\n",
       "\n",
       "    .dataframe thead th {\n",
       "        text-align: right;\n",
       "    }\n",
       "</style>\n",
       "<table border=\"1\" class=\"dataframe\">\n",
       "  <thead>\n",
       "    <tr style=\"text-align: right;\">\n",
       "      <th></th>\n",
       "      <th>ypred</th>\n",
       "      <th>proba</th>\n",
       "      <th>feature_1</th>\n",
       "      <th>value_1</th>\n",
       "      <th>contribution_1</th>\n",
       "      <th>feature_2</th>\n",
       "      <th>value_2</th>\n",
       "      <th>contribution_2</th>\n",
       "      <th>feature_3</th>\n",
       "      <th>value_3</th>\n",
       "      <th>contribution_3</th>\n",
       "    </tr>\n",
       "  </thead>\n",
       "  <tbody>\n",
       "    <tr>\n",
       "      <th>0</th>\n",
       "      <td>0</td>\n",
       "      <td>0.82</td>\n",
       "      <td>concave points_mean</td>\n",
       "      <td>0.03613</td>\n",
       "      <td>0.122393</td>\n",
       "      <td>concave points_worst</td>\n",
       "      <td>0.1555</td>\n",
       "      <td>-0.100025</td>\n",
       "      <td>area_worst</td>\n",
       "      <td>476.4</td>\n",
       "      <td>0.085566</td>\n",
       "    </tr>\n",
       "  </tbody>\n",
       "</table>\n",
       "</div>"
      ],
      "text/plain": [
       "   ypred  proba            feature_1  value_1 contribution_1  \\\n",
       "0      0   0.82  concave points_mean  0.03613       0.122393   \n",
       "\n",
       "              feature_2 value_2 contribution_2   feature_3 value_3  \\\n",
       "0  concave points_worst  0.1555      -0.100025  area_worst   476.4   \n",
       "\n",
       "  contribution_3  \n",
       "0       0.085566  "
      ]
     },
     "metadata": {},
     "execution_count": 30
    }
   ],
   "metadata": {}
  },
  {
   "cell_type": "code",
   "execution_count": 31,
   "source": [
    "df = detailed_contributions.drop(['ypred','proba'], axis=1).T.reset_index()\n",
    "df.columns= ['features','contribution']\n",
    "df = df.sort_values(by='contribution', ascending=True)"
   ],
   "outputs": [],
   "metadata": {}
  },
  {
   "cell_type": "code",
   "execution_count": 32,
   "source": [
    "import numpy as np\n",
    "import plotly.graph_objects as go\n",
    "from plotly.graph_objs import *\n",
    "\n",
    "df[\"color\"] = np.where(df[\"contribution\"]<0, '#f4c000', '#4a628a')\n",
    "\n",
    "fig = go.Figure(go.Bar(x=df['contribution'], \n",
    "                       y=df['features'],\n",
    "                       orientation='h', \n",
    "                       marker_color=df['color']) \n",
    "               )\n",
    "fig.update_layout(template='plotly_white', title=\"Local Explanation\", title_x=0.5, xaxis_title=\"Contribution\")\n",
    "fig.show()"
   ],
   "outputs": [
    {
     "output_type": "display_data",
     "data": {
      "application/vnd.plotly.v1+json": {
       "config": {
        "plotlyServerURL": "https://plot.ly"
       },
       "data": [
        {
         "marker": {
          "color": [
           "#f4c000",
           "#f4c000",
           "#f4c000",
           "#f4c000",
           "#4a628a",
           "#4a628a",
           "#4a628a",
           "#4a628a",
           "#4a628a",
           "#4a628a",
           "#4a628a",
           "#4a628a",
           "#4a628a",
           "#4a628a",
           "#4a628a"
          ]
         },
         "orientation": "h",
         "type": "bar",
         "x": [
          -0.10002464714450766,
          -0.03484289094252186,
          -0.02338439595093135,
          -0.015575966353896516,
          0.0006858051715116924,
          0.0012158693463799534,
          0.0022764588836906526,
          0.003343686853188167,
          0.012503261139885355,
          0.017090138188161384,
          0.019238513265636286,
          0.04542725104585779,
          0.06306297100602443,
          0.08556621872075967,
          0.12239288205026472
         ],
         "y": [
          "concave points_worst",
          "concavity_worst",
          "compactness_worst",
          "concavity_mean",
          "area_mean",
          "perimeter_se",
          "compactness_mean",
          "radius_se",
          "radius_mean",
          "area_se",
          "perimeter_mean",
          "perimeter_worst",
          "radius_worst",
          "area_worst",
          "concave points_mean"
         ]
        }
       ],
       "layout": {
        "template": {
         "data": {
          "bar": [
           {
            "error_x": {
             "color": "#2a3f5f"
            },
            "error_y": {
             "color": "#2a3f5f"
            },
            "marker": {
             "line": {
              "color": "white",
              "width": 0.5
             }
            },
            "type": "bar"
           }
          ],
          "barpolar": [
           {
            "marker": {
             "line": {
              "color": "white",
              "width": 0.5
             }
            },
            "type": "barpolar"
           }
          ],
          "carpet": [
           {
            "aaxis": {
             "endlinecolor": "#2a3f5f",
             "gridcolor": "#C8D4E3",
             "linecolor": "#C8D4E3",
             "minorgridcolor": "#C8D4E3",
             "startlinecolor": "#2a3f5f"
            },
            "baxis": {
             "endlinecolor": "#2a3f5f",
             "gridcolor": "#C8D4E3",
             "linecolor": "#C8D4E3",
             "minorgridcolor": "#C8D4E3",
             "startlinecolor": "#2a3f5f"
            },
            "type": "carpet"
           }
          ],
          "choropleth": [
           {
            "colorbar": {
             "outlinewidth": 0,
             "ticks": ""
            },
            "type": "choropleth"
           }
          ],
          "contour": [
           {
            "colorbar": {
             "outlinewidth": 0,
             "ticks": ""
            },
            "colorscale": [
             [
              0,
              "#0d0887"
             ],
             [
              0.1111111111111111,
              "#46039f"
             ],
             [
              0.2222222222222222,
              "#7201a8"
             ],
             [
              0.3333333333333333,
              "#9c179e"
             ],
             [
              0.4444444444444444,
              "#bd3786"
             ],
             [
              0.5555555555555556,
              "#d8576b"
             ],
             [
              0.6666666666666666,
              "#ed7953"
             ],
             [
              0.7777777777777778,
              "#fb9f3a"
             ],
             [
              0.8888888888888888,
              "#fdca26"
             ],
             [
              1,
              "#f0f921"
             ]
            ],
            "type": "contour"
           }
          ],
          "contourcarpet": [
           {
            "colorbar": {
             "outlinewidth": 0,
             "ticks": ""
            },
            "type": "contourcarpet"
           }
          ],
          "heatmap": [
           {
            "colorbar": {
             "outlinewidth": 0,
             "ticks": ""
            },
            "colorscale": [
             [
              0,
              "#0d0887"
             ],
             [
              0.1111111111111111,
              "#46039f"
             ],
             [
              0.2222222222222222,
              "#7201a8"
             ],
             [
              0.3333333333333333,
              "#9c179e"
             ],
             [
              0.4444444444444444,
              "#bd3786"
             ],
             [
              0.5555555555555556,
              "#d8576b"
             ],
             [
              0.6666666666666666,
              "#ed7953"
             ],
             [
              0.7777777777777778,
              "#fb9f3a"
             ],
             [
              0.8888888888888888,
              "#fdca26"
             ],
             [
              1,
              "#f0f921"
             ]
            ],
            "type": "heatmap"
           }
          ],
          "heatmapgl": [
           {
            "colorbar": {
             "outlinewidth": 0,
             "ticks": ""
            },
            "colorscale": [
             [
              0,
              "#0d0887"
             ],
             [
              0.1111111111111111,
              "#46039f"
             ],
             [
              0.2222222222222222,
              "#7201a8"
             ],
             [
              0.3333333333333333,
              "#9c179e"
             ],
             [
              0.4444444444444444,
              "#bd3786"
             ],
             [
              0.5555555555555556,
              "#d8576b"
             ],
             [
              0.6666666666666666,
              "#ed7953"
             ],
             [
              0.7777777777777778,
              "#fb9f3a"
             ],
             [
              0.8888888888888888,
              "#fdca26"
             ],
             [
              1,
              "#f0f921"
             ]
            ],
            "type": "heatmapgl"
           }
          ],
          "histogram": [
           {
            "marker": {
             "colorbar": {
              "outlinewidth": 0,
              "ticks": ""
             }
            },
            "type": "histogram"
           }
          ],
          "histogram2d": [
           {
            "colorbar": {
             "outlinewidth": 0,
             "ticks": ""
            },
            "colorscale": [
             [
              0,
              "#0d0887"
             ],
             [
              0.1111111111111111,
              "#46039f"
             ],
             [
              0.2222222222222222,
              "#7201a8"
             ],
             [
              0.3333333333333333,
              "#9c179e"
             ],
             [
              0.4444444444444444,
              "#bd3786"
             ],
             [
              0.5555555555555556,
              "#d8576b"
             ],
             [
              0.6666666666666666,
              "#ed7953"
             ],
             [
              0.7777777777777778,
              "#fb9f3a"
             ],
             [
              0.8888888888888888,
              "#fdca26"
             ],
             [
              1,
              "#f0f921"
             ]
            ],
            "type": "histogram2d"
           }
          ],
          "histogram2dcontour": [
           {
            "colorbar": {
             "outlinewidth": 0,
             "ticks": ""
            },
            "colorscale": [
             [
              0,
              "#0d0887"
             ],
             [
              0.1111111111111111,
              "#46039f"
             ],
             [
              0.2222222222222222,
              "#7201a8"
             ],
             [
              0.3333333333333333,
              "#9c179e"
             ],
             [
              0.4444444444444444,
              "#bd3786"
             ],
             [
              0.5555555555555556,
              "#d8576b"
             ],
             [
              0.6666666666666666,
              "#ed7953"
             ],
             [
              0.7777777777777778,
              "#fb9f3a"
             ],
             [
              0.8888888888888888,
              "#fdca26"
             ],
             [
              1,
              "#f0f921"
             ]
            ],
            "type": "histogram2dcontour"
           }
          ],
          "mesh3d": [
           {
            "colorbar": {
             "outlinewidth": 0,
             "ticks": ""
            },
            "type": "mesh3d"
           }
          ],
          "parcoords": [
           {
            "line": {
             "colorbar": {
              "outlinewidth": 0,
              "ticks": ""
             }
            },
            "type": "parcoords"
           }
          ],
          "pie": [
           {
            "automargin": true,
            "type": "pie"
           }
          ],
          "scatter": [
           {
            "marker": {
             "colorbar": {
              "outlinewidth": 0,
              "ticks": ""
             }
            },
            "type": "scatter"
           }
          ],
          "scatter3d": [
           {
            "line": {
             "colorbar": {
              "outlinewidth": 0,
              "ticks": ""
             }
            },
            "marker": {
             "colorbar": {
              "outlinewidth": 0,
              "ticks": ""
             }
            },
            "type": "scatter3d"
           }
          ],
          "scattercarpet": [
           {
            "marker": {
             "colorbar": {
              "outlinewidth": 0,
              "ticks": ""
             }
            },
            "type": "scattercarpet"
           }
          ],
          "scattergeo": [
           {
            "marker": {
             "colorbar": {
              "outlinewidth": 0,
              "ticks": ""
             }
            },
            "type": "scattergeo"
           }
          ],
          "scattergl": [
           {
            "marker": {
             "colorbar": {
              "outlinewidth": 0,
              "ticks": ""
             }
            },
            "type": "scattergl"
           }
          ],
          "scattermapbox": [
           {
            "marker": {
             "colorbar": {
              "outlinewidth": 0,
              "ticks": ""
             }
            },
            "type": "scattermapbox"
           }
          ],
          "scatterpolar": [
           {
            "marker": {
             "colorbar": {
              "outlinewidth": 0,
              "ticks": ""
             }
            },
            "type": "scatterpolar"
           }
          ],
          "scatterpolargl": [
           {
            "marker": {
             "colorbar": {
              "outlinewidth": 0,
              "ticks": ""
             }
            },
            "type": "scatterpolargl"
           }
          ],
          "scatterternary": [
           {
            "marker": {
             "colorbar": {
              "outlinewidth": 0,
              "ticks": ""
             }
            },
            "type": "scatterternary"
           }
          ],
          "surface": [
           {
            "colorbar": {
             "outlinewidth": 0,
             "ticks": ""
            },
            "colorscale": [
             [
              0,
              "#0d0887"
             ],
             [
              0.1111111111111111,
              "#46039f"
             ],
             [
              0.2222222222222222,
              "#7201a8"
             ],
             [
              0.3333333333333333,
              "#9c179e"
             ],
             [
              0.4444444444444444,
              "#bd3786"
             ],
             [
              0.5555555555555556,
              "#d8576b"
             ],
             [
              0.6666666666666666,
              "#ed7953"
             ],
             [
              0.7777777777777778,
              "#fb9f3a"
             ],
             [
              0.8888888888888888,
              "#fdca26"
             ],
             [
              1,
              "#f0f921"
             ]
            ],
            "type": "surface"
           }
          ],
          "table": [
           {
            "cells": {
             "fill": {
              "color": "#EBF0F8"
             },
             "line": {
              "color": "white"
             }
            },
            "header": {
             "fill": {
              "color": "#C8D4E3"
             },
             "line": {
              "color": "white"
             }
            },
            "type": "table"
           }
          ]
         },
         "layout": {
          "annotationdefaults": {
           "arrowcolor": "#2a3f5f",
           "arrowhead": 0,
           "arrowwidth": 1
          },
          "coloraxis": {
           "colorbar": {
            "outlinewidth": 0,
            "ticks": ""
           }
          },
          "colorscale": {
           "diverging": [
            [
             0,
             "#8e0152"
            ],
            [
             0.1,
             "#c51b7d"
            ],
            [
             0.2,
             "#de77ae"
            ],
            [
             0.3,
             "#f1b6da"
            ],
            [
             0.4,
             "#fde0ef"
            ],
            [
             0.5,
             "#f7f7f7"
            ],
            [
             0.6,
             "#e6f5d0"
            ],
            [
             0.7,
             "#b8e186"
            ],
            [
             0.8,
             "#7fbc41"
            ],
            [
             0.9,
             "#4d9221"
            ],
            [
             1,
             "#276419"
            ]
           ],
           "sequential": [
            [
             0,
             "#0d0887"
            ],
            [
             0.1111111111111111,
             "#46039f"
            ],
            [
             0.2222222222222222,
             "#7201a8"
            ],
            [
             0.3333333333333333,
             "#9c179e"
            ],
            [
             0.4444444444444444,
             "#bd3786"
            ],
            [
             0.5555555555555556,
             "#d8576b"
            ],
            [
             0.6666666666666666,
             "#ed7953"
            ],
            [
             0.7777777777777778,
             "#fb9f3a"
            ],
            [
             0.8888888888888888,
             "#fdca26"
            ],
            [
             1,
             "#f0f921"
            ]
           ],
           "sequentialminus": [
            [
             0,
             "#0d0887"
            ],
            [
             0.1111111111111111,
             "#46039f"
            ],
            [
             0.2222222222222222,
             "#7201a8"
            ],
            [
             0.3333333333333333,
             "#9c179e"
            ],
            [
             0.4444444444444444,
             "#bd3786"
            ],
            [
             0.5555555555555556,
             "#d8576b"
            ],
            [
             0.6666666666666666,
             "#ed7953"
            ],
            [
             0.7777777777777778,
             "#fb9f3a"
            ],
            [
             0.8888888888888888,
             "#fdca26"
            ],
            [
             1,
             "#f0f921"
            ]
           ]
          },
          "colorway": [
           "#636efa",
           "#EF553B",
           "#00cc96",
           "#ab63fa",
           "#FFA15A",
           "#19d3f3",
           "#FF6692",
           "#B6E880",
           "#FF97FF",
           "#FECB52"
          ],
          "font": {
           "color": "#2a3f5f"
          },
          "geo": {
           "bgcolor": "white",
           "lakecolor": "white",
           "landcolor": "white",
           "showlakes": true,
           "showland": true,
           "subunitcolor": "#C8D4E3"
          },
          "hoverlabel": {
           "align": "left"
          },
          "hovermode": "closest",
          "mapbox": {
           "style": "light"
          },
          "paper_bgcolor": "white",
          "plot_bgcolor": "white",
          "polar": {
           "angularaxis": {
            "gridcolor": "#EBF0F8",
            "linecolor": "#EBF0F8",
            "ticks": ""
           },
           "bgcolor": "white",
           "radialaxis": {
            "gridcolor": "#EBF0F8",
            "linecolor": "#EBF0F8",
            "ticks": ""
           }
          },
          "scene": {
           "xaxis": {
            "backgroundcolor": "white",
            "gridcolor": "#DFE8F3",
            "gridwidth": 2,
            "linecolor": "#EBF0F8",
            "showbackground": true,
            "ticks": "",
            "zerolinecolor": "#EBF0F8"
           },
           "yaxis": {
            "backgroundcolor": "white",
            "gridcolor": "#DFE8F3",
            "gridwidth": 2,
            "linecolor": "#EBF0F8",
            "showbackground": true,
            "ticks": "",
            "zerolinecolor": "#EBF0F8"
           },
           "zaxis": {
            "backgroundcolor": "white",
            "gridcolor": "#DFE8F3",
            "gridwidth": 2,
            "linecolor": "#EBF0F8",
            "showbackground": true,
            "ticks": "",
            "zerolinecolor": "#EBF0F8"
           }
          },
          "shapedefaults": {
           "line": {
            "color": "#2a3f5f"
           }
          },
          "ternary": {
           "aaxis": {
            "gridcolor": "#DFE8F3",
            "linecolor": "#A2B1C6",
            "ticks": ""
           },
           "baxis": {
            "gridcolor": "#DFE8F3",
            "linecolor": "#A2B1C6",
            "ticks": ""
           },
           "bgcolor": "white",
           "caxis": {
            "gridcolor": "#DFE8F3",
            "linecolor": "#A2B1C6",
            "ticks": ""
           }
          },
          "title": {
           "x": 0.05
          },
          "xaxis": {
           "automargin": true,
           "gridcolor": "#EBF0F8",
           "linecolor": "#EBF0F8",
           "ticks": "",
           "title": {
            "standoff": 15
           },
           "zerolinecolor": "#EBF0F8",
           "zerolinewidth": 2
          },
          "yaxis": {
           "automargin": true,
           "gridcolor": "#EBF0F8",
           "linecolor": "#EBF0F8",
           "ticks": "",
           "title": {
            "standoff": 15
           },
           "zerolinecolor": "#EBF0F8",
           "zerolinewidth": 2
          }
         }
        },
        "title": {
         "text": "Local Explanation",
         "x": 0.5
        },
        "xaxis": {
         "title": {
          "text": "Contribution"
         }
        }
       }
      }
     },
     "metadata": {}
    }
   ],
   "metadata": {}
  }
 ],
 "metadata": {
  "orig_nbformat": 4,
  "language_info": {
   "name": "python",
   "version": "3.9.4",
   "mimetype": "text/x-python",
   "codemirror_mode": {
    "name": "ipython",
    "version": 3
   },
   "pygments_lexer": "ipython3",
   "nbconvert_exporter": "python",
   "file_extension": ".py"
  },
  "kernelspec": {
   "name": "python3",
   "display_name": "Python 3.9.4 64-bit ('LF-Major-Project-3YVKcQfZ': pipenv)"
  },
  "interpreter": {
   "hash": "14215d5ee4bef4999e9d41ea313814ff841270637b7c2195843e2711495ab76e"
  }
 },
 "nbformat": 4,
 "nbformat_minor": 2
}