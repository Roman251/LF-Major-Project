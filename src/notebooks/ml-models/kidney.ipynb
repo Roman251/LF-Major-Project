{
 "cells": [
  {
   "cell_type": "code",
   "execution_count": 1,
   "source": [
    "import pandas as pd\n",
    "pd.set_option('display.max_columns', None)"
   ],
   "outputs": [],
   "metadata": {}
  },
  {
   "cell_type": "code",
   "execution_count": 2,
   "source": [
    "df = pd.read_csv('../../../data/kidney.csv')\n",
    "df.head()"
   ],
   "outputs": [
    {
     "output_type": "execute_result",
     "data": {
      "text/html": [
       "<div>\n",
       "<style scoped>\n",
       "    .dataframe tbody tr th:only-of-type {\n",
       "        vertical-align: middle;\n",
       "    }\n",
       "\n",
       "    .dataframe tbody tr th {\n",
       "        vertical-align: top;\n",
       "    }\n",
       "\n",
       "    .dataframe thead th {\n",
       "        text-align: right;\n",
       "    }\n",
       "</style>\n",
       "<table border=\"1\" class=\"dataframe\">\n",
       "  <thead>\n",
       "    <tr style=\"text-align: right;\">\n",
       "      <th></th>\n",
       "      <th>age</th>\n",
       "      <th>bp</th>\n",
       "      <th>sg</th>\n",
       "      <th>al</th>\n",
       "      <th>su</th>\n",
       "      <th>rbc</th>\n",
       "      <th>pc</th>\n",
       "      <th>pcc</th>\n",
       "      <th>ba</th>\n",
       "      <th>bgr</th>\n",
       "      <th>bu</th>\n",
       "      <th>sc</th>\n",
       "      <th>sod</th>\n",
       "      <th>pot</th>\n",
       "      <th>hemo</th>\n",
       "      <th>pcv</th>\n",
       "      <th>wc</th>\n",
       "      <th>rc</th>\n",
       "      <th>htn</th>\n",
       "      <th>dm</th>\n",
       "      <th>cad</th>\n",
       "      <th>appet</th>\n",
       "      <th>pe</th>\n",
       "      <th>ane</th>\n",
       "      <th>outcome</th>\n",
       "    </tr>\n",
       "  </thead>\n",
       "  <tbody>\n",
       "    <tr>\n",
       "      <th>0</th>\n",
       "      <td>48.0</td>\n",
       "      <td>80.0</td>\n",
       "      <td>1.020</td>\n",
       "      <td>1.0</td>\n",
       "      <td>0.0</td>\n",
       "      <td>NaN</td>\n",
       "      <td>normal</td>\n",
       "      <td>notpresent</td>\n",
       "      <td>notpresent</td>\n",
       "      <td>121.0</td>\n",
       "      <td>36.0</td>\n",
       "      <td>1.2</td>\n",
       "      <td>NaN</td>\n",
       "      <td>NaN</td>\n",
       "      <td>15.4</td>\n",
       "      <td>44</td>\n",
       "      <td>7800</td>\n",
       "      <td>5.2</td>\n",
       "      <td>yes</td>\n",
       "      <td>yes</td>\n",
       "      <td>no</td>\n",
       "      <td>good</td>\n",
       "      <td>no</td>\n",
       "      <td>no</td>\n",
       "      <td>ckd</td>\n",
       "    </tr>\n",
       "    <tr>\n",
       "      <th>1</th>\n",
       "      <td>7.0</td>\n",
       "      <td>50.0</td>\n",
       "      <td>1.020</td>\n",
       "      <td>4.0</td>\n",
       "      <td>0.0</td>\n",
       "      <td>NaN</td>\n",
       "      <td>normal</td>\n",
       "      <td>notpresent</td>\n",
       "      <td>notpresent</td>\n",
       "      <td>NaN</td>\n",
       "      <td>18.0</td>\n",
       "      <td>0.8</td>\n",
       "      <td>NaN</td>\n",
       "      <td>NaN</td>\n",
       "      <td>11.3</td>\n",
       "      <td>38</td>\n",
       "      <td>6000</td>\n",
       "      <td>NaN</td>\n",
       "      <td>no</td>\n",
       "      <td>no</td>\n",
       "      <td>no</td>\n",
       "      <td>good</td>\n",
       "      <td>no</td>\n",
       "      <td>no</td>\n",
       "      <td>ckd</td>\n",
       "    </tr>\n",
       "    <tr>\n",
       "      <th>2</th>\n",
       "      <td>62.0</td>\n",
       "      <td>80.0</td>\n",
       "      <td>1.010</td>\n",
       "      <td>2.0</td>\n",
       "      <td>3.0</td>\n",
       "      <td>normal</td>\n",
       "      <td>normal</td>\n",
       "      <td>notpresent</td>\n",
       "      <td>notpresent</td>\n",
       "      <td>423.0</td>\n",
       "      <td>53.0</td>\n",
       "      <td>1.8</td>\n",
       "      <td>NaN</td>\n",
       "      <td>NaN</td>\n",
       "      <td>9.6</td>\n",
       "      <td>31</td>\n",
       "      <td>7500</td>\n",
       "      <td>NaN</td>\n",
       "      <td>no</td>\n",
       "      <td>yes</td>\n",
       "      <td>no</td>\n",
       "      <td>poor</td>\n",
       "      <td>no</td>\n",
       "      <td>yes</td>\n",
       "      <td>ckd</td>\n",
       "    </tr>\n",
       "    <tr>\n",
       "      <th>3</th>\n",
       "      <td>48.0</td>\n",
       "      <td>70.0</td>\n",
       "      <td>1.005</td>\n",
       "      <td>4.0</td>\n",
       "      <td>0.0</td>\n",
       "      <td>normal</td>\n",
       "      <td>abnormal</td>\n",
       "      <td>present</td>\n",
       "      <td>notpresent</td>\n",
       "      <td>117.0</td>\n",
       "      <td>56.0</td>\n",
       "      <td>3.8</td>\n",
       "      <td>111.0</td>\n",
       "      <td>2.5</td>\n",
       "      <td>11.2</td>\n",
       "      <td>32</td>\n",
       "      <td>6700</td>\n",
       "      <td>3.9</td>\n",
       "      <td>yes</td>\n",
       "      <td>no</td>\n",
       "      <td>no</td>\n",
       "      <td>poor</td>\n",
       "      <td>yes</td>\n",
       "      <td>yes</td>\n",
       "      <td>ckd</td>\n",
       "    </tr>\n",
       "    <tr>\n",
       "      <th>4</th>\n",
       "      <td>51.0</td>\n",
       "      <td>80.0</td>\n",
       "      <td>1.010</td>\n",
       "      <td>2.0</td>\n",
       "      <td>0.0</td>\n",
       "      <td>normal</td>\n",
       "      <td>normal</td>\n",
       "      <td>notpresent</td>\n",
       "      <td>notpresent</td>\n",
       "      <td>106.0</td>\n",
       "      <td>26.0</td>\n",
       "      <td>1.4</td>\n",
       "      <td>NaN</td>\n",
       "      <td>NaN</td>\n",
       "      <td>11.6</td>\n",
       "      <td>35</td>\n",
       "      <td>7300</td>\n",
       "      <td>4.6</td>\n",
       "      <td>no</td>\n",
       "      <td>no</td>\n",
       "      <td>no</td>\n",
       "      <td>good</td>\n",
       "      <td>no</td>\n",
       "      <td>no</td>\n",
       "      <td>ckd</td>\n",
       "    </tr>\n",
       "  </tbody>\n",
       "</table>\n",
       "</div>"
      ],
      "text/plain": [
       "    age    bp     sg   al   su     rbc        pc         pcc          ba  \\\n",
       "0  48.0  80.0  1.020  1.0  0.0     NaN    normal  notpresent  notpresent   \n",
       "1   7.0  50.0  1.020  4.0  0.0     NaN    normal  notpresent  notpresent   \n",
       "2  62.0  80.0  1.010  2.0  3.0  normal    normal  notpresent  notpresent   \n",
       "3  48.0  70.0  1.005  4.0  0.0  normal  abnormal     present  notpresent   \n",
       "4  51.0  80.0  1.010  2.0  0.0  normal    normal  notpresent  notpresent   \n",
       "\n",
       "     bgr    bu   sc    sod  pot  hemo pcv    wc   rc  htn   dm cad appet   pe  \\\n",
       "0  121.0  36.0  1.2    NaN  NaN  15.4  44  7800  5.2  yes  yes  no  good   no   \n",
       "1    NaN  18.0  0.8    NaN  NaN  11.3  38  6000  NaN   no   no  no  good   no   \n",
       "2  423.0  53.0  1.8    NaN  NaN   9.6  31  7500  NaN   no  yes  no  poor   no   \n",
       "3  117.0  56.0  3.8  111.0  2.5  11.2  32  6700  3.9  yes   no  no  poor  yes   \n",
       "4  106.0  26.0  1.4    NaN  NaN  11.6  35  7300  4.6   no   no  no  good   no   \n",
       "\n",
       "   ane outcome  \n",
       "0   no     ckd  \n",
       "1   no     ckd  \n",
       "2  yes     ckd  \n",
       "3  yes     ckd  \n",
       "4   no     ckd  "
      ]
     },
     "metadata": {},
     "execution_count": 2
    }
   ],
   "metadata": {}
  },
  {
   "cell_type": "code",
   "execution_count": 3,
   "source": [
    "len(df.columns)"
   ],
   "outputs": [
    {
     "output_type": "execute_result",
     "data": {
      "text/plain": [
       "25"
      ]
     },
     "metadata": {},
     "execution_count": 3
    }
   ],
   "metadata": {}
  },
  {
   "cell_type": "code",
   "execution_count": 4,
   "source": [
    "df.isnull().sum()"
   ],
   "outputs": [
    {
     "output_type": "execute_result",
     "data": {
      "text/plain": [
       "age          9\n",
       "bp          12\n",
       "sg          47\n",
       "al          46\n",
       "su          49\n",
       "rbc        152\n",
       "pc          65\n",
       "pcc          4\n",
       "ba           4\n",
       "bgr         44\n",
       "bu          19\n",
       "sc          17\n",
       "sod         87\n",
       "pot         88\n",
       "hemo        52\n",
       "pcv         70\n",
       "wc         105\n",
       "rc         130\n",
       "htn          2\n",
       "dm           2\n",
       "cad          2\n",
       "appet        1\n",
       "pe           1\n",
       "ane          1\n",
       "outcome      0\n",
       "dtype: int64"
      ]
     },
     "metadata": {},
     "execution_count": 4
    }
   ],
   "metadata": {}
  },
  {
   "cell_type": "code",
   "execution_count": 5,
   "source": [
    "df.pc.unique(), df.pcc.unique()"
   ],
   "outputs": [
    {
     "output_type": "execute_result",
     "data": {
      "text/plain": [
       "(array(['normal', 'abnormal', nan], dtype=object),\n",
       " array(['notpresent', 'present', nan], dtype=object))"
      ]
     },
     "metadata": {},
     "execution_count": 5
    }
   ],
   "metadata": {}
  },
  {
   "cell_type": "code",
   "execution_count": 6,
   "source": [
    "df[df['pc']=='normal'].pcc.fillna(value='notpresent',inplace=True)\n",
    "df.pcc.fillna(value='present',inplace=True)"
   ],
   "outputs": [
    {
     "output_type": "stream",
     "name": "stderr",
     "text": [
      "/Users/romanregmi/.local/share/virtualenvs/LF-Major-Project-3YVKcQfZ/lib/python3.9/site-packages/pandas/core/generic.py:6392: SettingWithCopyWarning: \n",
      "A value is trying to be set on a copy of a slice from a DataFrame\n",
      "\n",
      "See the caveats in the documentation: https://pandas.pydata.org/pandas-docs/stable/user_guide/indexing.html#returning-a-view-versus-a-copy\n",
      "  return self._update_inplace(result)\n"
     ]
    }
   ],
   "metadata": {}
  },
  {
   "cell_type": "code",
   "execution_count": 7,
   "source": [
    "df['outcome'] = df['outcome'].replace(to_replace={'ckd':1,'ckd\\t':1,'notckd':0})"
   ],
   "outputs": [],
   "metadata": {}
  },
  {
   "cell_type": "code",
   "execution_count": 8,
   "source": [
    "df = df.drop(columns=['rbc','htn','ane','appet','pc'])\n",
    "df = df.dropna(subset=['age'])"
   ],
   "outputs": [],
   "metadata": {}
  },
  {
   "cell_type": "code",
   "execution_count": 9,
   "source": [
    "df['rc']  = df['rc'].replace('\\t?',0)\n",
    "df['pcv'] = df['pcv'].replace(to_replace={'\\t?':0,'\\t43':0})\n",
    "df['wc']  = df['wc'].replace(to_replace={'\\t6200':0,'\\t?':0,'\\t8400':0})"
   ],
   "outputs": [],
   "metadata": {}
  },
  {
   "cell_type": "code",
   "execution_count": 10,
   "source": [
    "df1 = df.loc[df['outcome'] == 1]\n",
    "df2 = df.loc[df['outcome'] == 0]"
   ],
   "outputs": [],
   "metadata": {}
  },
  {
   "cell_type": "code",
   "execution_count": 11,
   "source": [
    "df1 = df1.fillna(df1.median())\n",
    "df2 = df2.fillna(df2.median())"
   ],
   "outputs": [
    {
     "output_type": "stream",
     "name": "stderr",
     "text": [
      "/var/folders/0t/7t1c005x5pq0521t7y7p8pv40000gn/T/ipykernel_39816/2921872745.py:1: FutureWarning: Dropping of nuisance columns in DataFrame reductions (with 'numeric_only=None') is deprecated; in a future version this will raise TypeError.  Select only valid columns before calling the reduction.\n",
      "  df1 = df1.fillna(df1.median())\n",
      "/var/folders/0t/7t1c005x5pq0521t7y7p8pv40000gn/T/ipykernel_39816/2921872745.py:2: FutureWarning: Dropping of nuisance columns in DataFrame reductions (with 'numeric_only=None') is deprecated; in a future version this will raise TypeError.  Select only valid columns before calling the reduction.\n",
      "  df2 = df2.fillna(df2.median())\n"
     ]
    }
   ],
   "metadata": {}
  },
  {
   "cell_type": "code",
   "execution_count": 12,
   "source": [
    "df = pd.concat([df1, df2])\n",
    "df.isnull().sum()"
   ],
   "outputs": [
    {
     "output_type": "execute_result",
     "data": {
      "text/plain": [
       "age        0\n",
       "bp         0\n",
       "sg         0\n",
       "al         0\n",
       "su         0\n",
       "pcc        0\n",
       "ba         4\n",
       "bgr        0\n",
       "bu         0\n",
       "sc         0\n",
       "sod        0\n",
       "pot        0\n",
       "hemo       0\n",
       "pcv        0\n",
       "wc         0\n",
       "rc         0\n",
       "dm         2\n",
       "cad        2\n",
       "pe         1\n",
       "outcome    0\n",
       "dtype: int64"
      ]
     },
     "metadata": {},
     "execution_count": 12
    }
   ],
   "metadata": {}
  },
  {
   "cell_type": "code",
   "execution_count": 13,
   "source": [
    "df['pcv'] = df['pcv'].astype(int)\n",
    "df['rc']  = df['rc'].astype(float)\n",
    "df['wc']  = df['wc'].astype(float)"
   ],
   "outputs": [],
   "metadata": {}
  },
  {
   "cell_type": "code",
   "execution_count": 14,
   "source": [
    "df[['pcc','ba']] = df[['pcc','ba']].replace(to_replace={'present':1,'notpresent':0})\n",
    "df[['dm','cad','pe']] = df[['dm','cad','pe']].replace(to_replace={'yes':1,'no':0})\n",
    "df['dm'] = df['dm'].replace(to_replace={'\\tno':0,'\\tyes':1,' yes':1})\n",
    "df['cad'] = df['cad'].replace(to_replace='\\tno',value=0)"
   ],
   "outputs": [],
   "metadata": {}
  },
  {
   "cell_type": "code",
   "execution_count": 15,
   "source": [
    "df.isnull().sum()"
   ],
   "outputs": [
    {
     "output_type": "execute_result",
     "data": {
      "text/plain": [
       "age        0\n",
       "bp         0\n",
       "sg         0\n",
       "al         0\n",
       "su         0\n",
       "pcc        0\n",
       "ba         4\n",
       "bgr        0\n",
       "bu         0\n",
       "sc         0\n",
       "sod        0\n",
       "pot        0\n",
       "hemo       0\n",
       "pcv        0\n",
       "wc         0\n",
       "rc         0\n",
       "dm         2\n",
       "cad        2\n",
       "pe         1\n",
       "outcome    0\n",
       "dtype: int64"
      ]
     },
     "metadata": {},
     "execution_count": 15
    }
   ],
   "metadata": {}
  },
  {
   "cell_type": "code",
   "execution_count": 16,
   "source": [
    "df.dropna(subset=['dm','pe','cad','ba'],inplace=True)"
   ],
   "outputs": [],
   "metadata": {}
  },
  {
   "cell_type": "code",
   "execution_count": 17,
   "source": [
    "X = df.drop(columns=['outcome'])\n",
    "y = df['outcome'] "
   ],
   "outputs": [],
   "metadata": {}
  },
  {
   "cell_type": "code",
   "execution_count": 18,
   "source": [
    "X.head()"
   ],
   "outputs": [
    {
     "output_type": "execute_result",
     "data": {
      "text/html": [
       "<div>\n",
       "<style scoped>\n",
       "    .dataframe tbody tr th:only-of-type {\n",
       "        vertical-align: middle;\n",
       "    }\n",
       "\n",
       "    .dataframe tbody tr th {\n",
       "        vertical-align: top;\n",
       "    }\n",
       "\n",
       "    .dataframe thead th {\n",
       "        text-align: right;\n",
       "    }\n",
       "</style>\n",
       "<table border=\"1\" class=\"dataframe\">\n",
       "  <thead>\n",
       "    <tr style=\"text-align: right;\">\n",
       "      <th></th>\n",
       "      <th>age</th>\n",
       "      <th>bp</th>\n",
       "      <th>sg</th>\n",
       "      <th>al</th>\n",
       "      <th>su</th>\n",
       "      <th>pcc</th>\n",
       "      <th>ba</th>\n",
       "      <th>bgr</th>\n",
       "      <th>bu</th>\n",
       "      <th>sc</th>\n",
       "      <th>sod</th>\n",
       "      <th>pot</th>\n",
       "      <th>hemo</th>\n",
       "      <th>pcv</th>\n",
       "      <th>wc</th>\n",
       "      <th>rc</th>\n",
       "      <th>dm</th>\n",
       "      <th>cad</th>\n",
       "      <th>pe</th>\n",
       "    </tr>\n",
       "  </thead>\n",
       "  <tbody>\n",
       "    <tr>\n",
       "      <th>0</th>\n",
       "      <td>48.0</td>\n",
       "      <td>80.0</td>\n",
       "      <td>1.020</td>\n",
       "      <td>1.0</td>\n",
       "      <td>0.0</td>\n",
       "      <td>0</td>\n",
       "      <td>0.0</td>\n",
       "      <td>121.0</td>\n",
       "      <td>36.0</td>\n",
       "      <td>1.2</td>\n",
       "      <td>136.0</td>\n",
       "      <td>4.3</td>\n",
       "      <td>15.4</td>\n",
       "      <td>44</td>\n",
       "      <td>7800.0</td>\n",
       "      <td>5.2</td>\n",
       "      <td>1.0</td>\n",
       "      <td>0.0</td>\n",
       "      <td>0.0</td>\n",
       "    </tr>\n",
       "    <tr>\n",
       "      <th>1</th>\n",
       "      <td>7.0</td>\n",
       "      <td>50.0</td>\n",
       "      <td>1.020</td>\n",
       "      <td>4.0</td>\n",
       "      <td>0.0</td>\n",
       "      <td>0</td>\n",
       "      <td>0.0</td>\n",
       "      <td>144.0</td>\n",
       "      <td>18.0</td>\n",
       "      <td>0.8</td>\n",
       "      <td>136.0</td>\n",
       "      <td>4.3</td>\n",
       "      <td>11.3</td>\n",
       "      <td>38</td>\n",
       "      <td>6000.0</td>\n",
       "      <td>3.9</td>\n",
       "      <td>0.0</td>\n",
       "      <td>0.0</td>\n",
       "      <td>0.0</td>\n",
       "    </tr>\n",
       "    <tr>\n",
       "      <th>2</th>\n",
       "      <td>62.0</td>\n",
       "      <td>80.0</td>\n",
       "      <td>1.010</td>\n",
       "      <td>2.0</td>\n",
       "      <td>3.0</td>\n",
       "      <td>0</td>\n",
       "      <td>0.0</td>\n",
       "      <td>423.0</td>\n",
       "      <td>53.0</td>\n",
       "      <td>1.8</td>\n",
       "      <td>136.0</td>\n",
       "      <td>4.3</td>\n",
       "      <td>9.6</td>\n",
       "      <td>31</td>\n",
       "      <td>7500.0</td>\n",
       "      <td>3.9</td>\n",
       "      <td>1.0</td>\n",
       "      <td>0.0</td>\n",
       "      <td>0.0</td>\n",
       "    </tr>\n",
       "    <tr>\n",
       "      <th>3</th>\n",
       "      <td>48.0</td>\n",
       "      <td>70.0</td>\n",
       "      <td>1.005</td>\n",
       "      <td>4.0</td>\n",
       "      <td>0.0</td>\n",
       "      <td>1</td>\n",
       "      <td>0.0</td>\n",
       "      <td>117.0</td>\n",
       "      <td>56.0</td>\n",
       "      <td>3.8</td>\n",
       "      <td>111.0</td>\n",
       "      <td>2.5</td>\n",
       "      <td>11.2</td>\n",
       "      <td>32</td>\n",
       "      <td>6700.0</td>\n",
       "      <td>3.9</td>\n",
       "      <td>0.0</td>\n",
       "      <td>0.0</td>\n",
       "      <td>1.0</td>\n",
       "    </tr>\n",
       "    <tr>\n",
       "      <th>4</th>\n",
       "      <td>51.0</td>\n",
       "      <td>80.0</td>\n",
       "      <td>1.010</td>\n",
       "      <td>2.0</td>\n",
       "      <td>0.0</td>\n",
       "      <td>0</td>\n",
       "      <td>0.0</td>\n",
       "      <td>106.0</td>\n",
       "      <td>26.0</td>\n",
       "      <td>1.4</td>\n",
       "      <td>136.0</td>\n",
       "      <td>4.3</td>\n",
       "      <td>11.6</td>\n",
       "      <td>35</td>\n",
       "      <td>7300.0</td>\n",
       "      <td>4.6</td>\n",
       "      <td>0.0</td>\n",
       "      <td>0.0</td>\n",
       "      <td>0.0</td>\n",
       "    </tr>\n",
       "  </tbody>\n",
       "</table>\n",
       "</div>"
      ],
      "text/plain": [
       "    age    bp     sg   al   su  pcc   ba    bgr    bu   sc    sod  pot  hemo  \\\n",
       "0  48.0  80.0  1.020  1.0  0.0    0  0.0  121.0  36.0  1.2  136.0  4.3  15.4   \n",
       "1   7.0  50.0  1.020  4.0  0.0    0  0.0  144.0  18.0  0.8  136.0  4.3  11.3   \n",
       "2  62.0  80.0  1.010  2.0  3.0    0  0.0  423.0  53.0  1.8  136.0  4.3   9.6   \n",
       "3  48.0  70.0  1.005  4.0  0.0    1  0.0  117.0  56.0  3.8  111.0  2.5  11.2   \n",
       "4  51.0  80.0  1.010  2.0  0.0    0  0.0  106.0  26.0  1.4  136.0  4.3  11.6   \n",
       "\n",
       "   pcv      wc   rc   dm  cad   pe  \n",
       "0   44  7800.0  5.2  1.0  0.0  0.0  \n",
       "1   38  6000.0  3.9  0.0  0.0  0.0  \n",
       "2   31  7500.0  3.9  1.0  0.0  0.0  \n",
       "3   32  6700.0  3.9  0.0  0.0  1.0  \n",
       "4   35  7300.0  4.6  0.0  0.0  0.0  "
      ]
     },
     "metadata": {},
     "execution_count": 18
    }
   ],
   "metadata": {}
  },
  {
   "cell_type": "code",
   "execution_count": 19,
   "source": [
    "from sklearn.model_selection import train_test_split\n",
    "x_train, x_test, y_train, y_test = train_test_split(X, y, test_size = 0.15, random_state = 45)"
   ],
   "outputs": [],
   "metadata": {}
  },
  {
   "cell_type": "code",
   "execution_count": 20,
   "source": [
    "from imblearn.over_sampling import SMOTE\n",
    "smt = SMOTE()\n",
    "x_train, y_train = smt.fit_resample(x_train, y_train)"
   ],
   "outputs": [],
   "metadata": {}
  },
  {
   "cell_type": "code",
   "execution_count": 21,
   "source": [
    "from sklearn.ensemble import RandomForestClassifier\n",
    "\n",
    "model = RandomForestClassifier(n_estimators=200, bootstrap = True, max_features = 'sqrt').fit(x_train,y_train)\n",
    "y_pred = model.predict(x_test)\n",
    "\n",
    "print('accuracy of the model is : {:.2f}'.format(model.score(x_test, y_test)))"
   ],
   "outputs": [
    {
     "output_type": "stream",
     "name": "stdout",
     "text": [
      "accuracy of the model is : 1.00\n"
     ]
    }
   ],
   "metadata": {}
  },
  {
   "cell_type": "code",
   "execution_count": 22,
   "source": [
    "from sklearn.metrics import classification_report\n",
    "print(classification_report(y_test, y_pred))"
   ],
   "outputs": [
    {
     "output_type": "stream",
     "name": "stdout",
     "text": [
      "              precision    recall  f1-score   support\n",
      "\n",
      "           0       1.00      1.00      1.00        25\n",
      "           1       1.00      1.00      1.00        33\n",
      "\n",
      "    accuracy                           1.00        58\n",
      "   macro avg       1.00      1.00      1.00        58\n",
      "weighted avg       1.00      1.00      1.00        58\n",
      "\n"
     ]
    }
   ],
   "metadata": {}
  },
  {
   "cell_type": "code",
   "execution_count": 23,
   "source": [
    "# replace the original data with the processed data\n",
    "df.to_csv('../../../data/kidney.csv', index=False)"
   ],
   "outputs": [],
   "metadata": {}
  },
  {
   "cell_type": "code",
   "execution_count": 24,
   "source": [
    "y_pred = pd.DataFrame(model.predict(x_test), columns=['pred'], index=x_test.index)\n",
    "\n",
    "from shapash.explainer.smart_explainer import SmartExplainer\n",
    "xpl = SmartExplainer()\n",
    "xpl.compile(\n",
    "    x=x_test,\n",
    "    model=model,\n",
    "    y_pred=y_pred\n",
    "   \n",
    ")"
   ],
   "outputs": [
    {
     "output_type": "stream",
     "name": "stdout",
     "text": [
      "Backend: Shap TreeExplainer\n"
     ]
    }
   ],
   "metadata": {}
  },
  {
   "cell_type": "code",
   "execution_count": 25,
   "source": [
    "xpl.save('../../../serialized_files/shapash/kidney/kidney_pkl.pkl')"
   ],
   "outputs": [],
   "metadata": {}
  },
  {
   "cell_type": "code",
   "execution_count": 26,
   "source": [
    "summary_df = xpl.to_pandas(max_contrib=3)\n",
    "summary_df.head()"
   ],
   "outputs": [
    {
     "output_type": "execute_result",
     "data": {
      "text/html": [
       "<div>\n",
       "<style scoped>\n",
       "    .dataframe tbody tr th:only-of-type {\n",
       "        vertical-align: middle;\n",
       "    }\n",
       "\n",
       "    .dataframe tbody tr th {\n",
       "        vertical-align: top;\n",
       "    }\n",
       "\n",
       "    .dataframe thead th {\n",
       "        text-align: right;\n",
       "    }\n",
       "</style>\n",
       "<table border=\"1\" class=\"dataframe\">\n",
       "  <thead>\n",
       "    <tr style=\"text-align: right;\">\n",
       "      <th></th>\n",
       "      <th>pred</th>\n",
       "      <th>feature_1</th>\n",
       "      <th>value_1</th>\n",
       "      <th>contribution_1</th>\n",
       "      <th>feature_2</th>\n",
       "      <th>value_2</th>\n",
       "      <th>contribution_2</th>\n",
       "      <th>feature_3</th>\n",
       "      <th>value_3</th>\n",
       "      <th>contribution_3</th>\n",
       "    </tr>\n",
       "  </thead>\n",
       "  <tbody>\n",
       "    <tr>\n",
       "      <th>154</th>\n",
       "      <td>1</td>\n",
       "      <td>sg</td>\n",
       "      <td>1.005</td>\n",
       "      <td>0.086987</td>\n",
       "      <td>hemo</td>\n",
       "      <td>8.4</td>\n",
       "      <td>0.078399</td>\n",
       "      <td>rc</td>\n",
       "      <td>3.0</td>\n",
       "      <td>0.060102</td>\n",
       "    </tr>\n",
       "    <tr>\n",
       "      <th>265</th>\n",
       "      <td>0</td>\n",
       "      <td>hemo</td>\n",
       "      <td>14.2</td>\n",
       "      <td>0.119587</td>\n",
       "      <td>pcv</td>\n",
       "      <td>48.0</td>\n",
       "      <td>0.088289</td>\n",
       "      <td>rc</td>\n",
       "      <td>5.0</td>\n",
       "      <td>0.072914</td>\n",
       "    </tr>\n",
       "    <tr>\n",
       "      <th>260</th>\n",
       "      <td>0</td>\n",
       "      <td>hemo</td>\n",
       "      <td>14.1</td>\n",
       "      <td>0.110673</td>\n",
       "      <td>pcv</td>\n",
       "      <td>45.0</td>\n",
       "      <td>0.087298</td>\n",
       "      <td>rc</td>\n",
       "      <td>5.3</td>\n",
       "      <td>0.081134</td>\n",
       "    </tr>\n",
       "    <tr>\n",
       "      <th>164</th>\n",
       "      <td>1</td>\n",
       "      <td>sg</td>\n",
       "      <td>1.015</td>\n",
       "      <td>0.282014</td>\n",
       "      <td>bgr</td>\n",
       "      <td>192.0</td>\n",
       "      <td>0.160886</td>\n",
       "      <td>dm</td>\n",
       "      <td>1.0</td>\n",
       "      <td>0.119384</td>\n",
       "    </tr>\n",
       "    <tr>\n",
       "      <th>146</th>\n",
       "      <td>1</td>\n",
       "      <td>sg</td>\n",
       "      <td>1.01</td>\n",
       "      <td>0.102479</td>\n",
       "      <td>hemo</td>\n",
       "      <td>10.9</td>\n",
       "      <td>0.099</td>\n",
       "      <td>rc</td>\n",
       "      <td>3.9</td>\n",
       "      <td>0.070308</td>\n",
       "    </tr>\n",
       "  </tbody>\n",
       "</table>\n",
       "</div>"
      ],
      "text/plain": [
       "     pred feature_1 value_1 contribution_1 feature_2 value_2 contribution_2  \\\n",
       "154     1        sg   1.005       0.086987      hemo     8.4       0.078399   \n",
       "265     0      hemo    14.2       0.119587       pcv    48.0       0.088289   \n",
       "260     0      hemo    14.1       0.110673       pcv    45.0       0.087298   \n",
       "164     1        sg   1.015       0.282014       bgr   192.0       0.160886   \n",
       "146     1        sg    1.01       0.102479      hemo    10.9          0.099   \n",
       "\n",
       "    feature_3 value_3 contribution_3  \n",
       "154        rc     3.0       0.060102  \n",
       "265        rc     5.0       0.072914  \n",
       "260        rc     5.3       0.081134  \n",
       "164        dm     1.0       0.119384  \n",
       "146        rc     3.9       0.070308  "
      ]
     },
     "metadata": {},
     "execution_count": 26
    }
   ],
   "metadata": {}
  },
  {
   "cell_type": "code",
   "execution_count": 27,
   "source": [
    "xpl.plot.features_importance()"
   ],
   "outputs": [
    {
     "output_type": "display_data",
     "data": {
      "application/vnd.plotly.v1+json": {
       "config": {
        "plotlyServerURL": "https://plot.ly"
       },
       "data": [
        {
         "marker": {
          "color": [
           "rgba(244, 192, 0, 1.0)",
           "rgba(244, 192, 0, 1.0)",
           "rgba(244, 192, 0, 1.0)",
           "rgba(244, 192, 0, 1.0)",
           "rgba(244, 192, 0, 1.0)",
           "rgba(244, 192, 0, 1.0)",
           "rgba(244, 192, 0, 1.0)",
           "rgba(244, 192, 0, 1.0)",
           "rgba(244, 192, 0, 1.0)",
           "rgba(244, 192, 0, 1.0)",
           "rgba(244, 192, 0, 1.0)",
           "rgba(244, 192, 0, 1.0)",
           "rgba(244, 192, 0, 1.0)",
           "rgba(244, 192, 0, 1.0)",
           "rgba(244, 192, 0, 1.0)",
           "rgba(244, 192, 0, 1.0)",
           "rgba(244, 192, 0, 1.0)",
           "rgba(244, 192, 0, 1.0)",
           "rgba(244, 192, 0, 1.0)"
          ],
          "line": {
           "color": "rgba(52, 55, 54, 0.8)",
           "width": 0.5
          }
         },
         "name": "Global",
         "orientation": "h",
         "type": "bar",
         "x": [
          0.0001,
          0.0004,
          0.0005,
          0.0011,
          0.002,
          0.0024,
          0.0057,
          0.0059,
          0.0118,
          0.0148,
          0.0193,
          0.0483,
          0.0685,
          0.0919,
          0.0928,
          0.1322,
          0.1354,
          0.1762,
          0.1906
         ],
         "y": [
          "cad",
          "pcc",
          "ba",
          "pot",
          "age",
          "wc",
          "su",
          "pe",
          "bp",
          "sod",
          "bu",
          "dm",
          "bgr",
          "al",
          "sc",
          "pcv",
          "rc",
          "sg",
          "hemo"
         ]
        }
       ],
       "layout": {
        "autosize": false,
        "barmode": "group",
        "height": 500,
        "hovermode": "closest",
        "margin": {
         "b": 50,
         "l": 160,
         "r": 0,
         "t": 95
        },
        "template": {
         "data": {
          "scatter": [
           {
            "type": "scatter"
           }
          ]
         }
        },
        "title": {
         "font": {
          "color": "rgb(50, 50, 50)",
          "family": "Arial",
          "size": 24
         },
         "text": "Features Importance<span style='font-size: 12px;'><br />Response: <b>1</b></span>",
         "x": 0.5,
         "xanchor": "center",
         "y": 0.9,
         "yanchor": "middle"
        },
        "width": 900,
        "xaxis": {
         "automargin": true,
         "title": {
          "font": {
           "color": "rgb(50, 50, 50)",
           "family": "Arial Black",
           "size": 16
          },
          "text": "Contribution"
         }
        },
        "yaxis": {
         "automargin": true,
         "title": {
          "font": {
           "color": "rgb(50, 50, 50)",
           "family": "Arial Black",
           "size": 16
          }
         }
        }
       }
      }
     },
     "metadata": {}
    }
   ],
   "metadata": {}
  },
  {
   "cell_type": "code",
   "execution_count": 28,
   "source": [
    "xpl.filter()\n",
    "xpl.plot.local_plot(index=154)"
   ],
   "outputs": [
    {
     "output_type": "display_data",
     "data": {
      "application/vnd.plotly.v1+json": {
       "config": {
        "plotlyServerURL": "https://plot.ly"
       },
       "data": [
        {
         "customdata": [
          "<b>sod :</b><br />140.0"
         ],
         "hovertemplate": "%{customdata}<br />Contribution: %{x:.4f}<extra></extra>",
         "marker": {
          "color": "rgba(74, 99, 138, 0.7)",
          "line": {
           "color": "rgba(27, 28, 28, 1.0)",
           "width": 0.5
          }
         },
         "orientation": "h",
         "showlegend": false,
         "type": "bar",
         "x": [
          -0.003319791365448624
         ],
         "y": [
          "<b>sod</b>"
         ]
        },
        {
         "customdata": [
          "<b>wc :</b><br />8800.0"
         ],
         "hovertemplate": "%{customdata}<br />Contribution: %{x:.4f}<extra></extra>",
         "marker": {
          "color": "rgba(74, 99, 138, 0.7)",
          "line": {
           "color": "rgba(27, 28, 28, 1.0)",
           "width": 0.5
          }
         },
         "orientation": "h",
         "showlegend": false,
         "type": "bar",
         "x": [
          -0.00007897604651997033
         ],
         "y": [
          "<b>wc</b>"
         ]
        },
        {
         "customdata": [
          "<b>ba :</b><br />0.0"
         ],
         "hovertemplate": "%{customdata}<br />Contribution: %{x:.4f}<extra></extra>",
         "marker": {
          "color": "rgba(74, 99, 138, 0.7)",
          "line": {
           "color": "rgba(27, 28, 28, 1.0)",
           "width": 0.5
          }
         },
         "orientation": "h",
         "showlegend": false,
         "type": "bar",
         "x": [
          -0.000029127446809687123
         ],
         "y": [
          "<b>ba</b>"
         ]
        },
        {
         "customdata": [
          "<b>pcc :</b><br />0.0"
         ],
         "hovertemplate": "%{customdata}<br />Contribution: %{x:.4f}<extra></extra>",
         "marker": {
          "color": "rgba(74, 99, 138, 0.7)",
          "line": {
           "color": "rgba(27, 28, 28, 1.0)",
           "width": 0.5
          }
         },
         "orientation": "h",
         "showlegend": false,
         "type": "bar",
         "x": [
          -0.000014475496592721469
         ],
         "y": [
          "<b>pcc</b>"
         ]
        },
        {
         "customdata": [
          "<b>cad :</b><br />0.0"
         ],
         "hovertemplate": "%{customdata}<br />Contribution: %{x:.4f}<extra></extra>",
         "marker": {
          "color": "rgba(74, 99, 138, 0.7)",
          "line": {
           "color": "rgba(27, 28, 28, 1.0)",
           "width": 0.5
          }
         },
         "orientation": "h",
         "showlegend": false,
         "type": "bar",
         "x": [
          -0.000008398656215005633
         ],
         "y": [
          "<b>cad</b>"
         ]
        },
        {
         "customdata": [
          "<b>age :</b><br />56.0"
         ],
         "hovertemplate": "%{customdata}<br />Contribution: %{x:.4f}<extra></extra>",
         "marker": {
          "color": "rgba(244, 192, 0, 1.0)",
          "line": {
           "color": "rgba(52, 55, 54, 0.8)",
           "width": 0.5
          }
         },
         "orientation": "h",
         "showlegend": false,
         "type": "bar",
         "x": [
          0.00003046315276393984
         ],
         "y": [
          "<b>age</b>"
         ]
        },
        {
         "customdata": [
          "<b>pot :</b><br />4.2"
         ],
         "hovertemplate": "%{customdata}<br />Contribution: %{x:.4f}<extra></extra>",
         "marker": {
          "color": "rgba(244, 192, 0, 1.0)",
          "line": {
           "color": "rgba(52, 55, 54, 0.8)",
           "width": 0.5
          }
         },
         "orientation": "h",
         "showlegend": false,
         "type": "bar",
         "x": [
          0.00034487155938230015
         ],
         "y": [
          "<b>pot</b>"
         ]
        },
        {
         "customdata": [
          "<b>pe :</b><br />1.0"
         ],
         "hovertemplate": "%{customdata}<br />Contribution: %{x:.4f}<extra></extra>",
         "marker": {
          "color": "rgba(244, 192, 0, 1.0)",
          "line": {
           "color": "rgba(52, 55, 54, 0.8)",
           "width": 0.5
          }
         },
         "orientation": "h",
         "showlegend": false,
         "type": "bar",
         "x": [
          0.008356641748662888
         ],
         "y": [
          "<b>pe</b>"
         ]
        },
        {
         "customdata": [
          "<b>bu :</b><br />132.0"
         ],
         "hovertemplate": "%{customdata}<br />Contribution: %{x:.4f}<extra></extra>",
         "marker": {
          "color": "rgba(244, 192, 0, 1.0)",
          "line": {
           "color": "rgba(52, 55, 54, 0.8)",
           "width": 0.5
          }
         },
         "orientation": "h",
         "showlegend": false,
         "type": "bar",
         "x": [
          0.008810483710760621
         ],
         "y": [
          "<b>bu</b>"
         ]
        },
        {
         "customdata": [
          "<b>su :</b><br />3.0"
         ],
         "hovertemplate": "%{customdata}<br />Contribution: %{x:.4f}<extra></extra>",
         "marker": {
          "color": "rgba(244, 192, 0, 1.0)",
          "line": {
           "color": "rgba(52, 55, 54, 0.8)",
           "width": 0.5
          }
         },
         "orientation": "h",
         "showlegend": false,
         "type": "bar",
         "x": [
          0.010125299024919258
         ],
         "y": [
          "<b>su</b>"
         ]
        },
        {
         "customdata": [
          "<b>bp :</b><br />90.0"
         ],
         "hovertemplate": "%{customdata}<br />Contribution: %{x:.4f}<extra></extra>",
         "marker": {
          "color": "rgba(244, 192, 0, 1.0)",
          "line": {
           "color": "rgba(52, 55, 54, 0.8)",
           "width": 0.5
          }
         },
         "orientation": "h",
         "showlegend": false,
         "type": "bar",
         "x": [
          0.012109606680460868
         ],
         "y": [
          "<b>bp</b>"
         ]
        },
        {
         "customdata": [
          "<b>dm :</b><br />1.0"
         ],
         "hovertemplate": "%{customdata}<br />Contribution: %{x:.4f}<extra></extra>",
         "marker": {
          "color": "rgba(244, 192, 0, 1.0)",
          "line": {
           "color": "rgba(52, 55, 54, 0.8)",
           "width": 0.5
          }
         },
         "orientation": "h",
         "showlegend": false,
         "type": "bar",
         "x": [
          0.0360735785499993
         ],
         "y": [
          "<b>dm</b>"
         ]
        },
        {
         "customdata": [
          "<b>al :</b><br />4.0"
         ],
         "hovertemplate": "%{customdata}<br />Contribution: %{x:.4f}<extra></extra>",
         "marker": {
          "color": "rgba(244, 192, 0, 1.0)",
          "line": {
           "color": "rgba(52, 55, 54, 0.8)",
           "width": 0.5
          }
         },
         "orientation": "h",
         "showlegend": false,
         "type": "bar",
         "x": [
          0.04973763470464371
         ],
         "y": [
          "<b>al</b>"
         ]
        },
        {
         "customdata": [
          "<b>pcv :</b><br />26.0"
         ],
         "hovertemplate": "%{customdata}<br />Contribution: %{x:.4f}<extra></extra>",
         "marker": {
          "color": "rgba(244, 192, 0, 1.0)",
          "line": {
           "color": "rgba(52, 55, 54, 0.8)",
           "width": 0.5
          }
         },
         "orientation": "h",
         "showlegend": false,
         "type": "bar",
         "x": [
          0.05003232995895984
         ],
         "y": [
          "<b>pcv</b>"
         ]
        },
        {
         "customdata": [
          "<b>bgr :</b><br />242.0"
         ],
         "hovertemplate": "%{customdata}<br />Contribution: %{x:.4f}<extra></extra>",
         "marker": {
          "color": "rgba(244, 192, 0, 1.0)",
          "line": {
           "color": "rgba(52, 55, 54, 0.8)",
           "width": 0.5
          }
         },
         "orientation": "h",
         "showlegend": false,
         "type": "bar",
         "x": [
          0.0501116656516018
         ],
         "y": [
          "<b>bgr</b>"
         ]
        },
        {
         "customdata": [
          "<b>sc :</b><br />16.4"
         ],
         "hovertemplate": "%{customdata}<br />Contribution: %{x:.4f}<extra></extra>",
         "marker": {
          "color": "rgba(244, 192, 0, 1.0)",
          "line": {
           "color": "rgba(52, 55, 54, 0.8)",
           "width": 0.5
          }
         },
         "orientation": "h",
         "showlegend": false,
         "type": "bar",
         "x": [
          0.052242583043580176
         ],
         "y": [
          "<b>sc</b>"
         ]
        },
        {
         "customdata": [
          "<b>rc :</b><br />3.0"
         ],
         "hovertemplate": "%{customdata}<br />Contribution: %{x:.4f}<extra></extra>",
         "marker": {
          "color": "rgba(244, 192, 0, 1.0)",
          "line": {
           "color": "rgba(52, 55, 54, 0.8)",
           "width": 0.5
          }
         },
         "orientation": "h",
         "showlegend": false,
         "type": "bar",
         "x": [
          0.060101983486919044
         ],
         "y": [
          "<b>rc</b>"
         ]
        },
        {
         "customdata": [
          "<b>hemo :</b><br />8.4"
         ],
         "hovertemplate": "%{customdata}<br />Contribution: %{x:.4f}<extra></extra>",
         "marker": {
          "color": "rgba(244, 192, 0, 1.0)",
          "line": {
           "color": "rgba(52, 55, 54, 0.8)",
           "width": 0.5
          }
         },
         "orientation": "h",
         "showlegend": false,
         "type": "bar",
         "x": [
          0.07839881567043407
         ],
         "y": [
          "<b>hemo</b>"
         ]
        },
        {
         "customdata": [
          "<b>sg :</b><br />1.005"
         ],
         "hovertemplate": "%{customdata}<br />Contribution: %{x:.4f}<extra></extra>",
         "marker": {
          "color": "rgba(244, 192, 0, 1.0)",
          "line": {
           "color": "rgba(52, 55, 54, 0.8)",
           "width": 0.5
          }
         },
         "orientation": "h",
         "showlegend": false,
         "type": "bar",
         "x": [
          0.08698677379098635
         ],
         "y": [
          "<b>sg</b>"
         ]
        }
       ],
       "layout": {
        "barmode": "group",
        "height": 550,
        "hovermode": "closest",
        "margin": {
         "b": 70,
         "l": 150,
         "r": 20,
         "t": 95
        },
        "template": {
         "data": {
          "scatter": [
           {
            "type": "scatter"
           }
          ]
         }
        },
        "title": {
         "font": {
          "color": "rgb(50, 50, 50)",
          "family": "Arial",
          "size": 24
         },
         "text": "Local Explanation - Id: <b>154</b><span style='font-size: 12px;'><br />Response: <b>1</b> - Proba: <b>1.0000</b></span>",
         "x": 0.5,
         "xanchor": "center",
         "y": 0.9,
         "yanchor": "middle"
        },
        "width": 900,
        "xaxis": {
         "automargin": true,
         "title": {
          "font": {
           "color": "rgb(50, 50, 50)",
           "family": "Arial Black",
           "size": 16
          },
          "text": "Contribution"
         }
        },
        "yaxis": {
         "automargin": true,
         "title": {
          "font": {
           "color": "rgb(50, 50, 50)",
           "family": "Arial Black",
           "size": 16
          }
         },
         "type": "category"
        }
       }
      }
     },
     "metadata": {}
    }
   ],
   "metadata": {}
  },
  {
   "cell_type": "code",
   "execution_count": 29,
   "source": [
    "predictor = xpl.to_smartpredictor()\n",
    "predictor.save('../../../serialized_files/shapash/kidney/kidney.pkl')"
   ],
   "outputs": [],
   "metadata": {}
  },
  {
   "cell_type": "code",
   "execution_count": 30,
   "source": [
    "from shapash.utils.load_smartpredictor import load_smartpredictor\n",
    "predictor_load = load_smartpredictor('../../../serialized_files/shapash/kidney/kidney.pkl')"
   ],
   "outputs": [],
   "metadata": {}
  },
  {
   "cell_type": "code",
   "execution_count": 31,
   "source": [
    "x_test.head()"
   ],
   "outputs": [
    {
     "output_type": "execute_result",
     "data": {
      "text/html": [
       "<div>\n",
       "<style scoped>\n",
       "    .dataframe tbody tr th:only-of-type {\n",
       "        vertical-align: middle;\n",
       "    }\n",
       "\n",
       "    .dataframe tbody tr th {\n",
       "        vertical-align: top;\n",
       "    }\n",
       "\n",
       "    .dataframe thead th {\n",
       "        text-align: right;\n",
       "    }\n",
       "</style>\n",
       "<table border=\"1\" class=\"dataframe\">\n",
       "  <thead>\n",
       "    <tr style=\"text-align: right;\">\n",
       "      <th></th>\n",
       "      <th>age</th>\n",
       "      <th>bp</th>\n",
       "      <th>sg</th>\n",
       "      <th>al</th>\n",
       "      <th>su</th>\n",
       "      <th>pcc</th>\n",
       "      <th>ba</th>\n",
       "      <th>bgr</th>\n",
       "      <th>bu</th>\n",
       "      <th>sc</th>\n",
       "      <th>sod</th>\n",
       "      <th>pot</th>\n",
       "      <th>hemo</th>\n",
       "      <th>pcv</th>\n",
       "      <th>wc</th>\n",
       "      <th>rc</th>\n",
       "      <th>dm</th>\n",
       "      <th>cad</th>\n",
       "      <th>pe</th>\n",
       "    </tr>\n",
       "  </thead>\n",
       "  <tbody>\n",
       "    <tr>\n",
       "      <th>154</th>\n",
       "      <td>56.0</td>\n",
       "      <td>90.0</td>\n",
       "      <td>1.005</td>\n",
       "      <td>4.0</td>\n",
       "      <td>3.0</td>\n",
       "      <td>0</td>\n",
       "      <td>0.0</td>\n",
       "      <td>242.0</td>\n",
       "      <td>132.0</td>\n",
       "      <td>16.4</td>\n",
       "      <td>140.0</td>\n",
       "      <td>4.2</td>\n",
       "      <td>8.4</td>\n",
       "      <td>26</td>\n",
       "      <td>8800.0</td>\n",
       "      <td>3.0</td>\n",
       "      <td>1.0</td>\n",
       "      <td>0.0</td>\n",
       "      <td>1.0</td>\n",
       "    </tr>\n",
       "    <tr>\n",
       "      <th>265</th>\n",
       "      <td>50.0</td>\n",
       "      <td>80.0</td>\n",
       "      <td>1.020</td>\n",
       "      <td>0.0</td>\n",
       "      <td>0.0</td>\n",
       "      <td>0</td>\n",
       "      <td>0.0</td>\n",
       "      <td>97.0</td>\n",
       "      <td>40.0</td>\n",
       "      <td>0.6</td>\n",
       "      <td>150.0</td>\n",
       "      <td>4.5</td>\n",
       "      <td>14.2</td>\n",
       "      <td>48</td>\n",
       "      <td>10500.0</td>\n",
       "      <td>5.0</td>\n",
       "      <td>0.0</td>\n",
       "      <td>0.0</td>\n",
       "      <td>0.0</td>\n",
       "    </tr>\n",
       "    <tr>\n",
       "      <th>260</th>\n",
       "      <td>30.0</td>\n",
       "      <td>80.0</td>\n",
       "      <td>1.020</td>\n",
       "      <td>0.0</td>\n",
       "      <td>0.0</td>\n",
       "      <td>0</td>\n",
       "      <td>0.0</td>\n",
       "      <td>131.0</td>\n",
       "      <td>38.0</td>\n",
       "      <td>1.0</td>\n",
       "      <td>147.0</td>\n",
       "      <td>3.8</td>\n",
       "      <td>14.1</td>\n",
       "      <td>45</td>\n",
       "      <td>9400.0</td>\n",
       "      <td>5.3</td>\n",
       "      <td>0.0</td>\n",
       "      <td>0.0</td>\n",
       "      <td>0.0</td>\n",
       "    </tr>\n",
       "    <tr>\n",
       "      <th>164</th>\n",
       "      <td>14.0</td>\n",
       "      <td>80.0</td>\n",
       "      <td>1.015</td>\n",
       "      <td>0.0</td>\n",
       "      <td>0.0</td>\n",
       "      <td>0</td>\n",
       "      <td>0.0</td>\n",
       "      <td>192.0</td>\n",
       "      <td>15.0</td>\n",
       "      <td>0.8</td>\n",
       "      <td>137.0</td>\n",
       "      <td>4.2</td>\n",
       "      <td>14.3</td>\n",
       "      <td>40</td>\n",
       "      <td>9500.0</td>\n",
       "      <td>5.4</td>\n",
       "      <td>1.0</td>\n",
       "      <td>0.0</td>\n",
       "      <td>1.0</td>\n",
       "    </tr>\n",
       "    <tr>\n",
       "      <th>146</th>\n",
       "      <td>53.0</td>\n",
       "      <td>100.0</td>\n",
       "      <td>1.010</td>\n",
       "      <td>1.0</td>\n",
       "      <td>3.0</td>\n",
       "      <td>0</td>\n",
       "      <td>0.0</td>\n",
       "      <td>213.0</td>\n",
       "      <td>23.0</td>\n",
       "      <td>1.0</td>\n",
       "      <td>139.0</td>\n",
       "      <td>4.0</td>\n",
       "      <td>10.9</td>\n",
       "      <td>33</td>\n",
       "      <td>8800.0</td>\n",
       "      <td>3.9</td>\n",
       "      <td>1.0</td>\n",
       "      <td>0.0</td>\n",
       "      <td>0.0</td>\n",
       "    </tr>\n",
       "  </tbody>\n",
       "</table>\n",
       "</div>"
      ],
      "text/plain": [
       "      age     bp     sg   al   su  pcc   ba    bgr     bu    sc    sod  pot  \\\n",
       "154  56.0   90.0  1.005  4.0  3.0    0  0.0  242.0  132.0  16.4  140.0  4.2   \n",
       "265  50.0   80.0  1.020  0.0  0.0    0  0.0   97.0   40.0   0.6  150.0  4.5   \n",
       "260  30.0   80.0  1.020  0.0  0.0    0  0.0  131.0   38.0   1.0  147.0  3.8   \n",
       "164  14.0   80.0  1.015  0.0  0.0    0  0.0  192.0   15.0   0.8  137.0  4.2   \n",
       "146  53.0  100.0  1.010  1.0  3.0    0  0.0  213.0   23.0   1.0  139.0  4.0   \n",
       "\n",
       "     hemo  pcv       wc   rc   dm  cad   pe  \n",
       "154   8.4   26   8800.0  3.0  1.0  0.0  1.0  \n",
       "265  14.2   48  10500.0  5.0  0.0  0.0  0.0  \n",
       "260  14.1   45   9400.0  5.3  0.0  0.0  0.0  \n",
       "164  14.3   40   9500.0  5.4  1.0  0.0  1.0  \n",
       "146  10.9   33   8800.0  3.9  1.0  0.0  0.0  "
      ]
     },
     "metadata": {},
     "execution_count": 31
    }
   ],
   "metadata": {}
  },
  {
   "cell_type": "code",
   "execution_count": 32,
   "source": [
    "data = [30.0, 80.0, 1.020, 0.0, 0.0, 0, 0.0, 131.0, 38.0, 1.0, 147.0, 3.8, 14.1, 45, 9400.0, 5.3, 0.0, 0.0, 0.0]"
   ],
   "outputs": [],
   "metadata": {}
  },
  {
   "cell_type": "code",
   "execution_count": 33,
   "source": [
    "new_df = pd.DataFrame(columns = df.columns)\n",
    "new_df.drop(columns=['outcome'],inplace=True)\n",
    "new_df.loc[len(df)] = data"
   ],
   "outputs": [],
   "metadata": {}
  },
  {
   "cell_type": "code",
   "execution_count": 34,
   "source": [
    "new_df = new_df.astype(X.dtypes.to_dict())\n",
    "new_df.info()"
   ],
   "outputs": [
    {
     "output_type": "stream",
     "name": "stdout",
     "text": [
      "<class 'pandas.core.frame.DataFrame'>\n",
      "Int64Index: 1 entries, 384 to 384\n",
      "Data columns (total 19 columns):\n",
      " #   Column  Non-Null Count  Dtype  \n",
      "---  ------  --------------  -----  \n",
      " 0   age     1 non-null      float64\n",
      " 1   bp      1 non-null      float64\n",
      " 2   sg      1 non-null      float64\n",
      " 3   al      1 non-null      float64\n",
      " 4   su      1 non-null      float64\n",
      " 5   pcc     1 non-null      int64  \n",
      " 6   ba      1 non-null      float64\n",
      " 7   bgr     1 non-null      float64\n",
      " 8   bu      1 non-null      float64\n",
      " 9   sc      1 non-null      float64\n",
      " 10  sod     1 non-null      float64\n",
      " 11  pot     1 non-null      float64\n",
      " 12  hemo    1 non-null      float64\n",
      " 13  pcv     1 non-null      int64  \n",
      " 14  wc      1 non-null      float64\n",
      " 15  rc      1 non-null      float64\n",
      " 16  dm      1 non-null      float64\n",
      " 17  cad     1 non-null      float64\n",
      " 18  pe      1 non-null      float64\n",
      "dtypes: float64(17), int64(2)\n",
      "memory usage: 160.0 bytes\n"
     ]
    }
   ],
   "metadata": {}
  },
  {
   "cell_type": "code",
   "execution_count": 35,
   "source": [
    "new_df"
   ],
   "outputs": [
    {
     "output_type": "execute_result",
     "data": {
      "text/html": [
       "<div>\n",
       "<style scoped>\n",
       "    .dataframe tbody tr th:only-of-type {\n",
       "        vertical-align: middle;\n",
       "    }\n",
       "\n",
       "    .dataframe tbody tr th {\n",
       "        vertical-align: top;\n",
       "    }\n",
       "\n",
       "    .dataframe thead th {\n",
       "        text-align: right;\n",
       "    }\n",
       "</style>\n",
       "<table border=\"1\" class=\"dataframe\">\n",
       "  <thead>\n",
       "    <tr style=\"text-align: right;\">\n",
       "      <th></th>\n",
       "      <th>age</th>\n",
       "      <th>bp</th>\n",
       "      <th>sg</th>\n",
       "      <th>al</th>\n",
       "      <th>su</th>\n",
       "      <th>pcc</th>\n",
       "      <th>ba</th>\n",
       "      <th>bgr</th>\n",
       "      <th>bu</th>\n",
       "      <th>sc</th>\n",
       "      <th>sod</th>\n",
       "      <th>pot</th>\n",
       "      <th>hemo</th>\n",
       "      <th>pcv</th>\n",
       "      <th>wc</th>\n",
       "      <th>rc</th>\n",
       "      <th>dm</th>\n",
       "      <th>cad</th>\n",
       "      <th>pe</th>\n",
       "    </tr>\n",
       "  </thead>\n",
       "  <tbody>\n",
       "    <tr>\n",
       "      <th>384</th>\n",
       "      <td>30.0</td>\n",
       "      <td>80.0</td>\n",
       "      <td>1.02</td>\n",
       "      <td>0.0</td>\n",
       "      <td>0.0</td>\n",
       "      <td>0</td>\n",
       "      <td>0.0</td>\n",
       "      <td>131.0</td>\n",
       "      <td>38.0</td>\n",
       "      <td>1.0</td>\n",
       "      <td>147.0</td>\n",
       "      <td>3.8</td>\n",
       "      <td>14.1</td>\n",
       "      <td>45</td>\n",
       "      <td>9400.0</td>\n",
       "      <td>5.3</td>\n",
       "      <td>0.0</td>\n",
       "      <td>0.0</td>\n",
       "      <td>0.0</td>\n",
       "    </tr>\n",
       "  </tbody>\n",
       "</table>\n",
       "</div>"
      ],
      "text/plain": [
       "      age    bp    sg   al   su  pcc   ba    bgr    bu   sc    sod  pot  hemo  \\\n",
       "384  30.0  80.0  1.02  0.0  0.0    0  0.0  131.0  38.0  1.0  147.0  3.8  14.1   \n",
       "\n",
       "     pcv      wc   rc   dm  cad   pe  \n",
       "384   45  9400.0  5.3  0.0  0.0  0.0  "
      ]
     },
     "metadata": {},
     "execution_count": 35
    }
   ],
   "metadata": {}
  },
  {
   "cell_type": "code",
   "execution_count": 36,
   "source": [
    "new_df.reset_index(inplace=True, drop=True)"
   ],
   "outputs": [],
   "metadata": {}
  },
  {
   "cell_type": "code",
   "execution_count": 37,
   "source": [
    "predictor.add_input(x=new_df)"
   ],
   "outputs": [],
   "metadata": {}
  },
  {
   "cell_type": "code",
   "execution_count": 38,
   "source": [
    "detailed_contributions = predictor.detail_contributions()\n",
    "detailed_contributions"
   ],
   "outputs": [
    {
     "output_type": "execute_result",
     "data": {
      "text/html": [
       "<div>\n",
       "<style scoped>\n",
       "    .dataframe tbody tr th:only-of-type {\n",
       "        vertical-align: middle;\n",
       "    }\n",
       "\n",
       "    .dataframe tbody tr th {\n",
       "        vertical-align: top;\n",
       "    }\n",
       "\n",
       "    .dataframe thead th {\n",
       "        text-align: right;\n",
       "    }\n",
       "</style>\n",
       "<table border=\"1\" class=\"dataframe\">\n",
       "  <thead>\n",
       "    <tr style=\"text-align: right;\">\n",
       "      <th></th>\n",
       "      <th>ypred</th>\n",
       "      <th>proba</th>\n",
       "      <th>age</th>\n",
       "      <th>bp</th>\n",
       "      <th>sg</th>\n",
       "      <th>al</th>\n",
       "      <th>su</th>\n",
       "      <th>pcc</th>\n",
       "      <th>ba</th>\n",
       "      <th>bgr</th>\n",
       "      <th>bu</th>\n",
       "      <th>sc</th>\n",
       "      <th>sod</th>\n",
       "      <th>pot</th>\n",
       "      <th>hemo</th>\n",
       "      <th>pcv</th>\n",
       "      <th>wc</th>\n",
       "      <th>rc</th>\n",
       "      <th>dm</th>\n",
       "      <th>cad</th>\n",
       "      <th>pe</th>\n",
       "    </tr>\n",
       "  </thead>\n",
       "  <tbody>\n",
       "    <tr>\n",
       "      <th>0</th>\n",
       "      <td>0</td>\n",
       "      <td>0.995</td>\n",
       "      <td>0.001718</td>\n",
       "      <td>0.004282</td>\n",
       "      <td>0.060125</td>\n",
       "      <td>0.036331</td>\n",
       "      <td>0.001547</td>\n",
       "      <td>0.000082</td>\n",
       "      <td>0.000199</td>\n",
       "      <td>0.030072</td>\n",
       "      <td>0.012563</td>\n",
       "      <td>0.044512</td>\n",
       "      <td>0.010554</td>\n",
       "      <td>0.000137</td>\n",
       "      <td>0.110673</td>\n",
       "      <td>0.087298</td>\n",
       "      <td>-0.000122</td>\n",
       "      <td>0.081134</td>\n",
       "      <td>0.010672</td>\n",
       "      <td>0.000048</td>\n",
       "      <td>0.003163</td>\n",
       "    </tr>\n",
       "  </tbody>\n",
       "</table>\n",
       "</div>"
      ],
      "text/plain": [
       "   ypred  proba       age        bp        sg        al        su       pcc  \\\n",
       "0      0  0.995  0.001718  0.004282  0.060125  0.036331  0.001547  0.000082   \n",
       "\n",
       "         ba       bgr        bu        sc       sod       pot      hemo  \\\n",
       "0  0.000199  0.030072  0.012563  0.044512  0.010554  0.000137  0.110673   \n",
       "\n",
       "        pcv        wc        rc        dm       cad        pe  \n",
       "0  0.087298 -0.000122  0.081134  0.010672  0.000048  0.003163  "
      ]
     },
     "metadata": {},
     "execution_count": 38
    }
   ],
   "metadata": {}
  },
  {
   "cell_type": "code",
   "execution_count": 39,
   "source": [
    "predictor.modify_mask(max_contrib=3)\n",
    "explanation = predictor.summarize()\n",
    "explanation"
   ],
   "outputs": [
    {
     "output_type": "execute_result",
     "data": {
      "text/html": [
       "<div>\n",
       "<style scoped>\n",
       "    .dataframe tbody tr th:only-of-type {\n",
       "        vertical-align: middle;\n",
       "    }\n",
       "\n",
       "    .dataframe tbody tr th {\n",
       "        vertical-align: top;\n",
       "    }\n",
       "\n",
       "    .dataframe thead th {\n",
       "        text-align: right;\n",
       "    }\n",
       "</style>\n",
       "<table border=\"1\" class=\"dataframe\">\n",
       "  <thead>\n",
       "    <tr style=\"text-align: right;\">\n",
       "      <th></th>\n",
       "      <th>ypred</th>\n",
       "      <th>proba</th>\n",
       "      <th>feature_1</th>\n",
       "      <th>value_1</th>\n",
       "      <th>contribution_1</th>\n",
       "      <th>feature_2</th>\n",
       "      <th>value_2</th>\n",
       "      <th>contribution_2</th>\n",
       "      <th>feature_3</th>\n",
       "      <th>value_3</th>\n",
       "      <th>contribution_3</th>\n",
       "    </tr>\n",
       "  </thead>\n",
       "  <tbody>\n",
       "    <tr>\n",
       "      <th>0</th>\n",
       "      <td>0</td>\n",
       "      <td>0.995</td>\n",
       "      <td>hemo</td>\n",
       "      <td>14.1</td>\n",
       "      <td>0.110673</td>\n",
       "      <td>pcv</td>\n",
       "      <td>45.0</td>\n",
       "      <td>0.087298</td>\n",
       "      <td>rc</td>\n",
       "      <td>5.3</td>\n",
       "      <td>0.081134</td>\n",
       "    </tr>\n",
       "  </tbody>\n",
       "</table>\n",
       "</div>"
      ],
      "text/plain": [
       "   ypred  proba feature_1 value_1 contribution_1 feature_2 value_2  \\\n",
       "0      0  0.995      hemo    14.1       0.110673       pcv    45.0   \n",
       "\n",
       "  contribution_2 feature_3 value_3 contribution_3  \n",
       "0       0.087298        rc     5.3       0.081134  "
      ]
     },
     "metadata": {},
     "execution_count": 39
    }
   ],
   "metadata": {}
  },
  {
   "cell_type": "code",
   "execution_count": 40,
   "source": [
    "df = detailed_contributions.drop(['ypred','proba'], axis=1).T.reset_index()\n",
    "df.columns= ['features','contribution']\n",
    "df = df.sort_values(by='contribution', ascending=True)"
   ],
   "outputs": [],
   "metadata": {}
  },
  {
   "cell_type": "code",
   "execution_count": 41,
   "source": [
    "import numpy as np\n",
    "from plotly.graph_objs import *\n",
    "import plotly.graph_objects as go\n",
    "\n",
    "df[\"color\"] = np.where(df[\"contribution\"]<0, '#f4c000', '#4a628a')\n",
    "\n",
    "fig = go.Figure(go.Bar(x=df['contribution'], \n",
    "                       y=df['features'],\n",
    "                       orientation='h', \n",
    "                       marker_color=df['color']) \n",
    "               )\n",
    "fig.update_layout(template='plotly_white', title=\"Local Explanation\", title_x=0.5, xaxis_title=\"Contribution\")\n",
    "fig.show()"
   ],
   "outputs": [
    {
     "output_type": "display_data",
     "data": {
      "application/vnd.plotly.v1+json": {
       "config": {
        "plotlyServerURL": "https://plot.ly"
       },
       "data": [
        {
         "marker": {
          "color": [
           "#f4c000",
           "#4a628a",
           "#4a628a",
           "#4a628a",
           "#4a628a",
           "#4a628a",
           "#4a628a",
           "#4a628a",
           "#4a628a",
           "#4a628a",
           "#4a628a",
           "#4a628a",
           "#4a628a",
           "#4a628a",
           "#4a628a",
           "#4a628a",
           "#4a628a",
           "#4a628a",
           "#4a628a"
          ]
         },
         "orientation": "h",
         "type": "bar",
         "x": [
          -0.00012151272766696385,
          0.000048018971693882515,
          0.00008235464274032169,
          0.00013703692372280446,
          0.00019909781076242234,
          0.0015469573601461797,
          0.0017178444712416465,
          0.00316337094172863,
          0.00428225255675107,
          0.010553502801988428,
          0.010672172624765669,
          0.012563067524958846,
          0.03007227845563015,
          0.03633050058133914,
          0.04451156779839627,
          0.060124526107153714,
          0.08113389184980342,
          0.08729835660452838,
          0.1106727529778279
         ],
         "y": [
          "wc",
          "cad",
          "pcc",
          "pot",
          "ba",
          "su",
          "age",
          "pe",
          "bp",
          "sod",
          "dm",
          "bu",
          "bgr",
          "al",
          "sc",
          "sg",
          "rc",
          "pcv",
          "hemo"
         ]
        }
       ],
       "layout": {
        "template": {
         "data": {
          "bar": [
           {
            "error_x": {
             "color": "#2a3f5f"
            },
            "error_y": {
             "color": "#2a3f5f"
            },
            "marker": {
             "line": {
              "color": "white",
              "width": 0.5
             }
            },
            "type": "bar"
           }
          ],
          "barpolar": [
           {
            "marker": {
             "line": {
              "color": "white",
              "width": 0.5
             }
            },
            "type": "barpolar"
           }
          ],
          "carpet": [
           {
            "aaxis": {
             "endlinecolor": "#2a3f5f",
             "gridcolor": "#C8D4E3",
             "linecolor": "#C8D4E3",
             "minorgridcolor": "#C8D4E3",
             "startlinecolor": "#2a3f5f"
            },
            "baxis": {
             "endlinecolor": "#2a3f5f",
             "gridcolor": "#C8D4E3",
             "linecolor": "#C8D4E3",
             "minorgridcolor": "#C8D4E3",
             "startlinecolor": "#2a3f5f"
            },
            "type": "carpet"
           }
          ],
          "choropleth": [
           {
            "colorbar": {
             "outlinewidth": 0,
             "ticks": ""
            },
            "type": "choropleth"
           }
          ],
          "contour": [
           {
            "colorbar": {
             "outlinewidth": 0,
             "ticks": ""
            },
            "colorscale": [
             [
              0,
              "#0d0887"
             ],
             [
              0.1111111111111111,
              "#46039f"
             ],
             [
              0.2222222222222222,
              "#7201a8"
             ],
             [
              0.3333333333333333,
              "#9c179e"
             ],
             [
              0.4444444444444444,
              "#bd3786"
             ],
             [
              0.5555555555555556,
              "#d8576b"
             ],
             [
              0.6666666666666666,
              "#ed7953"
             ],
             [
              0.7777777777777778,
              "#fb9f3a"
             ],
             [
              0.8888888888888888,
              "#fdca26"
             ],
             [
              1,
              "#f0f921"
             ]
            ],
            "type": "contour"
           }
          ],
          "contourcarpet": [
           {
            "colorbar": {
             "outlinewidth": 0,
             "ticks": ""
            },
            "type": "contourcarpet"
           }
          ],
          "heatmap": [
           {
            "colorbar": {
             "outlinewidth": 0,
             "ticks": ""
            },
            "colorscale": [
             [
              0,
              "#0d0887"
             ],
             [
              0.1111111111111111,
              "#46039f"
             ],
             [
              0.2222222222222222,
              "#7201a8"
             ],
             [
              0.3333333333333333,
              "#9c179e"
             ],
             [
              0.4444444444444444,
              "#bd3786"
             ],
             [
              0.5555555555555556,
              "#d8576b"
             ],
             [
              0.6666666666666666,
              "#ed7953"
             ],
             [
              0.7777777777777778,
              "#fb9f3a"
             ],
             [
              0.8888888888888888,
              "#fdca26"
             ],
             [
              1,
              "#f0f921"
             ]
            ],
            "type": "heatmap"
           }
          ],
          "heatmapgl": [
           {
            "colorbar": {
             "outlinewidth": 0,
             "ticks": ""
            },
            "colorscale": [
             [
              0,
              "#0d0887"
             ],
             [
              0.1111111111111111,
              "#46039f"
             ],
             [
              0.2222222222222222,
              "#7201a8"
             ],
             [
              0.3333333333333333,
              "#9c179e"
             ],
             [
              0.4444444444444444,
              "#bd3786"
             ],
             [
              0.5555555555555556,
              "#d8576b"
             ],
             [
              0.6666666666666666,
              "#ed7953"
             ],
             [
              0.7777777777777778,
              "#fb9f3a"
             ],
             [
              0.8888888888888888,
              "#fdca26"
             ],
             [
              1,
              "#f0f921"
             ]
            ],
            "type": "heatmapgl"
           }
          ],
          "histogram": [
           {
            "marker": {
             "colorbar": {
              "outlinewidth": 0,
              "ticks": ""
             }
            },
            "type": "histogram"
           }
          ],
          "histogram2d": [
           {
            "colorbar": {
             "outlinewidth": 0,
             "ticks": ""
            },
            "colorscale": [
             [
              0,
              "#0d0887"
             ],
             [
              0.1111111111111111,
              "#46039f"
             ],
             [
              0.2222222222222222,
              "#7201a8"
             ],
             [
              0.3333333333333333,
              "#9c179e"
             ],
             [
              0.4444444444444444,
              "#bd3786"
             ],
             [
              0.5555555555555556,
              "#d8576b"
             ],
             [
              0.6666666666666666,
              "#ed7953"
             ],
             [
              0.7777777777777778,
              "#fb9f3a"
             ],
             [
              0.8888888888888888,
              "#fdca26"
             ],
             [
              1,
              "#f0f921"
             ]
            ],
            "type": "histogram2d"
           }
          ],
          "histogram2dcontour": [
           {
            "colorbar": {
             "outlinewidth": 0,
             "ticks": ""
            },
            "colorscale": [
             [
              0,
              "#0d0887"
             ],
             [
              0.1111111111111111,
              "#46039f"
             ],
             [
              0.2222222222222222,
              "#7201a8"
             ],
             [
              0.3333333333333333,
              "#9c179e"
             ],
             [
              0.4444444444444444,
              "#bd3786"
             ],
             [
              0.5555555555555556,
              "#d8576b"
             ],
             [
              0.6666666666666666,
              "#ed7953"
             ],
             [
              0.7777777777777778,
              "#fb9f3a"
             ],
             [
              0.8888888888888888,
              "#fdca26"
             ],
             [
              1,
              "#f0f921"
             ]
            ],
            "type": "histogram2dcontour"
           }
          ],
          "mesh3d": [
           {
            "colorbar": {
             "outlinewidth": 0,
             "ticks": ""
            },
            "type": "mesh3d"
           }
          ],
          "parcoords": [
           {
            "line": {
             "colorbar": {
              "outlinewidth": 0,
              "ticks": ""
             }
            },
            "type": "parcoords"
           }
          ],
          "pie": [
           {
            "automargin": true,
            "type": "pie"
           }
          ],
          "scatter": [
           {
            "marker": {
             "colorbar": {
              "outlinewidth": 0,
              "ticks": ""
             }
            },
            "type": "scatter"
           }
          ],
          "scatter3d": [
           {
            "line": {
             "colorbar": {
              "outlinewidth": 0,
              "ticks": ""
             }
            },
            "marker": {
             "colorbar": {
              "outlinewidth": 0,
              "ticks": ""
             }
            },
            "type": "scatter3d"
           }
          ],
          "scattercarpet": [
           {
            "marker": {
             "colorbar": {
              "outlinewidth": 0,
              "ticks": ""
             }
            },
            "type": "scattercarpet"
           }
          ],
          "scattergeo": [
           {
            "marker": {
             "colorbar": {
              "outlinewidth": 0,
              "ticks": ""
             }
            },
            "type": "scattergeo"
           }
          ],
          "scattergl": [
           {
            "marker": {
             "colorbar": {
              "outlinewidth": 0,
              "ticks": ""
             }
            },
            "type": "scattergl"
           }
          ],
          "scattermapbox": [
           {
            "marker": {
             "colorbar": {
              "outlinewidth": 0,
              "ticks": ""
             }
            },
            "type": "scattermapbox"
           }
          ],
          "scatterpolar": [
           {
            "marker": {
             "colorbar": {
              "outlinewidth": 0,
              "ticks": ""
             }
            },
            "type": "scatterpolar"
           }
          ],
          "scatterpolargl": [
           {
            "marker": {
             "colorbar": {
              "outlinewidth": 0,
              "ticks": ""
             }
            },
            "type": "scatterpolargl"
           }
          ],
          "scatterternary": [
           {
            "marker": {
             "colorbar": {
              "outlinewidth": 0,
              "ticks": ""
             }
            },
            "type": "scatterternary"
           }
          ],
          "surface": [
           {
            "colorbar": {
             "outlinewidth": 0,
             "ticks": ""
            },
            "colorscale": [
             [
              0,
              "#0d0887"
             ],
             [
              0.1111111111111111,
              "#46039f"
             ],
             [
              0.2222222222222222,
              "#7201a8"
             ],
             [
              0.3333333333333333,
              "#9c179e"
             ],
             [
              0.4444444444444444,
              "#bd3786"
             ],
             [
              0.5555555555555556,
              "#d8576b"
             ],
             [
              0.6666666666666666,
              "#ed7953"
             ],
             [
              0.7777777777777778,
              "#fb9f3a"
             ],
             [
              0.8888888888888888,
              "#fdca26"
             ],
             [
              1,
              "#f0f921"
             ]
            ],
            "type": "surface"
           }
          ],
          "table": [
           {
            "cells": {
             "fill": {
              "color": "#EBF0F8"
             },
             "line": {
              "color": "white"
             }
            },
            "header": {
             "fill": {
              "color": "#C8D4E3"
             },
             "line": {
              "color": "white"
             }
            },
            "type": "table"
           }
          ]
         },
         "layout": {
          "annotationdefaults": {
           "arrowcolor": "#2a3f5f",
           "arrowhead": 0,
           "arrowwidth": 1
          },
          "coloraxis": {
           "colorbar": {
            "outlinewidth": 0,
            "ticks": ""
           }
          },
          "colorscale": {
           "diverging": [
            [
             0,
             "#8e0152"
            ],
            [
             0.1,
             "#c51b7d"
            ],
            [
             0.2,
             "#de77ae"
            ],
            [
             0.3,
             "#f1b6da"
            ],
            [
             0.4,
             "#fde0ef"
            ],
            [
             0.5,
             "#f7f7f7"
            ],
            [
             0.6,
             "#e6f5d0"
            ],
            [
             0.7,
             "#b8e186"
            ],
            [
             0.8,
             "#7fbc41"
            ],
            [
             0.9,
             "#4d9221"
            ],
            [
             1,
             "#276419"
            ]
           ],
           "sequential": [
            [
             0,
             "#0d0887"
            ],
            [
             0.1111111111111111,
             "#46039f"
            ],
            [
             0.2222222222222222,
             "#7201a8"
            ],
            [
             0.3333333333333333,
             "#9c179e"
            ],
            [
             0.4444444444444444,
             "#bd3786"
            ],
            [
             0.5555555555555556,
             "#d8576b"
            ],
            [
             0.6666666666666666,
             "#ed7953"
            ],
            [
             0.7777777777777778,
             "#fb9f3a"
            ],
            [
             0.8888888888888888,
             "#fdca26"
            ],
            [
             1,
             "#f0f921"
            ]
           ],
           "sequentialminus": [
            [
             0,
             "#0d0887"
            ],
            [
             0.1111111111111111,
             "#46039f"
            ],
            [
             0.2222222222222222,
             "#7201a8"
            ],
            [
             0.3333333333333333,
             "#9c179e"
            ],
            [
             0.4444444444444444,
             "#bd3786"
            ],
            [
             0.5555555555555556,
             "#d8576b"
            ],
            [
             0.6666666666666666,
             "#ed7953"
            ],
            [
             0.7777777777777778,
             "#fb9f3a"
            ],
            [
             0.8888888888888888,
             "#fdca26"
            ],
            [
             1,
             "#f0f921"
            ]
           ]
          },
          "colorway": [
           "#636efa",
           "#EF553B",
           "#00cc96",
           "#ab63fa",
           "#FFA15A",
           "#19d3f3",
           "#FF6692",
           "#B6E880",
           "#FF97FF",
           "#FECB52"
          ],
          "font": {
           "color": "#2a3f5f"
          },
          "geo": {
           "bgcolor": "white",
           "lakecolor": "white",
           "landcolor": "white",
           "showlakes": true,
           "showland": true,
           "subunitcolor": "#C8D4E3"
          },
          "hoverlabel": {
           "align": "left"
          },
          "hovermode": "closest",
          "mapbox": {
           "style": "light"
          },
          "paper_bgcolor": "white",
          "plot_bgcolor": "white",
          "polar": {
           "angularaxis": {
            "gridcolor": "#EBF0F8",
            "linecolor": "#EBF0F8",
            "ticks": ""
           },
           "bgcolor": "white",
           "radialaxis": {
            "gridcolor": "#EBF0F8",
            "linecolor": "#EBF0F8",
            "ticks": ""
           }
          },
          "scene": {
           "xaxis": {
            "backgroundcolor": "white",
            "gridcolor": "#DFE8F3",
            "gridwidth": 2,
            "linecolor": "#EBF0F8",
            "showbackground": true,
            "ticks": "",
            "zerolinecolor": "#EBF0F8"
           },
           "yaxis": {
            "backgroundcolor": "white",
            "gridcolor": "#DFE8F3",
            "gridwidth": 2,
            "linecolor": "#EBF0F8",
            "showbackground": true,
            "ticks": "",
            "zerolinecolor": "#EBF0F8"
           },
           "zaxis": {
            "backgroundcolor": "white",
            "gridcolor": "#DFE8F3",
            "gridwidth": 2,
            "linecolor": "#EBF0F8",
            "showbackground": true,
            "ticks": "",
            "zerolinecolor": "#EBF0F8"
           }
          },
          "shapedefaults": {
           "line": {
            "color": "#2a3f5f"
           }
          },
          "ternary": {
           "aaxis": {
            "gridcolor": "#DFE8F3",
            "linecolor": "#A2B1C6",
            "ticks": ""
           },
           "baxis": {
            "gridcolor": "#DFE8F3",
            "linecolor": "#A2B1C6",
            "ticks": ""
           },
           "bgcolor": "white",
           "caxis": {
            "gridcolor": "#DFE8F3",
            "linecolor": "#A2B1C6",
            "ticks": ""
           }
          },
          "title": {
           "x": 0.05
          },
          "xaxis": {
           "automargin": true,
           "gridcolor": "#EBF0F8",
           "linecolor": "#EBF0F8",
           "ticks": "",
           "title": {
            "standoff": 15
           },
           "zerolinecolor": "#EBF0F8",
           "zerolinewidth": 2
          },
          "yaxis": {
           "automargin": true,
           "gridcolor": "#EBF0F8",
           "linecolor": "#EBF0F8",
           "ticks": "",
           "title": {
            "standoff": 15
           },
           "zerolinecolor": "#EBF0F8",
           "zerolinewidth": 2
          }
         }
        },
        "title": {
         "text": "Local Explanation",
         "x": 0.5
        },
        "xaxis": {
         "title": {
          "text": "Contribution"
         }
        }
       }
      }
     },
     "metadata": {}
    }
   ],
   "metadata": {}
  }
 ],
 "metadata": {
  "orig_nbformat": 4,
  "language_info": {
   "name": "python",
   "version": "3.9.4",
   "mimetype": "text/x-python",
   "codemirror_mode": {
    "name": "ipython",
    "version": 3
   },
   "pygments_lexer": "ipython3",
   "nbconvert_exporter": "python",
   "file_extension": ".py"
  },
  "kernelspec": {
   "name": "python3",
   "display_name": "Python 3.9.4 64-bit ('LF-Major-Project-3YVKcQfZ': pipenv)"
  },
  "interpreter": {
   "hash": "14215d5ee4bef4999e9d41ea313814ff841270637b7c2195843e2711495ab76e"
  }
 },
 "nbformat": 4,
 "nbformat_minor": 2
}